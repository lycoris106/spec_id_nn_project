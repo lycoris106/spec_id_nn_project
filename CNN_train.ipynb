{
  "nbformat": 4,
  "nbformat_minor": 0,
  "metadata": {
    "colab": {
      "provenance": [],
      "gpuType": "T4",
      "machine_shape": "hm"
    },
    "kernelspec": {
      "name": "python3",
      "display_name": "Python 3"
    },
    "language_info": {
      "name": "python"
    },
    "accelerator": "GPU"
  },
  "cells": [
    {
      "cell_type": "code",
      "execution_count": null,
      "metadata": {
        "id": "EqFkNRMsdMR5",
        "colab": {
          "base_uri": "https://localhost:8080/"
        },
        "outputId": "109e6f0b-fe85-4958-afb9-6221fa71f800"
      },
      "outputs": [
        {
          "output_type": "stream",
          "name": "stdout",
          "text": [
            "Tue Aug 22 16:06:37 2023       \n",
            "+-----------------------------------------------------------------------------+\n",
            "| NVIDIA-SMI 525.105.17   Driver Version: 525.105.17   CUDA Version: 12.0     |\n",
            "|-------------------------------+----------------------+----------------------+\n",
            "| GPU  Name        Persistence-M| Bus-Id        Disp.A | Volatile Uncorr. ECC |\n",
            "| Fan  Temp  Perf  Pwr:Usage/Cap|         Memory-Usage | GPU-Util  Compute M. |\n",
            "|                               |                      |               MIG M. |\n",
            "|===============================+======================+======================|\n",
            "|   0  Tesla T4            Off  | 00000000:00:04.0 Off |                    0 |\n",
            "| N/A   35C    P8     9W /  70W |      0MiB / 15360MiB |      0%      Default |\n",
            "|                               |                      |                  N/A |\n",
            "+-------------------------------+----------------------+----------------------+\n",
            "                                                                               \n",
            "+-----------------------------------------------------------------------------+\n",
            "| Processes:                                                                  |\n",
            "|  GPU   GI   CI        PID   Type   Process name                  GPU Memory |\n",
            "|        ID   ID                                                   Usage      |\n",
            "|=============================================================================|\n",
            "|  No running processes found                                                 |\n",
            "+-----------------------------------------------------------------------------+\n"
          ]
        }
      ],
      "source": [
        "!nvidia-smi"
      ]
    },
    {
      "cell_type": "code",
      "source": [
        "from google.colab import drive\n",
        "drive.mount('/content/gdrive')\n",
        "\n",
        "BASE_PATH = r'./gdrive/MyDrive/lfsa/'"
      ],
      "metadata": {
        "id": "2Qn3hN02dT-e",
        "colab": {
          "base_uri": "https://localhost:8080/"
        },
        "outputId": "c8aa70f1-44ff-4ac4-8af7-8e43db423872"
      },
      "execution_count": null,
      "outputs": [
        {
          "output_type": "stream",
          "name": "stdout",
          "text": [
            "Mounted at /content/gdrive\n"
          ]
        }
      ]
    },
    {
      "cell_type": "markdown",
      "source": [
        "# Preprocessing"
      ],
      "metadata": {
        "id": "Q_8rRn4CyScE"
      }
    },
    {
      "cell_type": "code",
      "source": [
        "import os\n",
        "import random\n",
        "import torch\n",
        "import numpy as np\n",
        "import json\n",
        "from torch.utils.data import Dataset, DataLoader, random_split\n",
        "import pandas as pd\n",
        "from torchvision.transforms import Compose, Normalize\n",
        "from sklearn.model_selection import train_test_split\n",
        "# import tracemalloc"
      ],
      "metadata": {
        "id": "xwynzNyCyzrD"
      },
      "execution_count": null,
      "outputs": []
    },
    {
      "cell_type": "code",
      "source": [
        "class SpecDataset(Dataset):\n",
        "  def __init__(self, data, label2class, maxval, minval, normalize=False, do_label_trans = True):\n",
        "    self.data = data\n",
        "    self.labels = self.data.iloc[:, -1].map(label2class).values if do_label_trans else self.data.iloc[:, -1].values\n",
        "    self.features = self.data.iloc[:, :-1].values\n",
        "    self.normalize = normalize\n",
        "    self.maxval, self.minval = maxval, minval\n",
        "\n",
        "  def __len__(self):\n",
        "    return len(self.data)\n",
        "\n",
        "  def __getitem__(self, idx):\n",
        "    feature = torch.unsqueeze(torch.tensor(self.features[idx], dtype=torch.float), 0)\n",
        "    label = torch.tensor(self.labels[idx], dtype=torch.long)\n",
        "\n",
        "    # feature = torch.tensor(self.features[idx], dtype=torch.float)\n",
        "    # label = torch.tensor(self.labels[idx], dtype=torch.long)\n",
        "\n",
        "    if self.normalize:\n",
        "        #   feature = self.transform(feature)\n",
        "        noise = torch.randn_like(feature) * 0.000\n",
        "        feature = feature + noise\n",
        "        feature = (feature - self.minval) / self.maxval\n",
        "        # feature = (feature - self.mean) / self.std\n",
        "\n",
        "\n",
        "    return feature, label"
      ],
      "metadata": {
        "id": "hcAH4TOhj0rV"
      },
      "execution_count": null,
      "outputs": []
    },
    {
      "cell_type": "code",
      "source": [
        "\n",
        "\n",
        "# tracemalloc.start()\n",
        "\n",
        "csv_path = os.path.join(BASE_PATH, 'data_84_85_576_v0_c2000_fil.csv')\n",
        "\n",
        "train_proportion = 0.9\n",
        "val_proportion = 1 - train_proportion\n",
        "\n",
        "data = pd.read_csv(csv_path)\n",
        "data.iloc[:, -1] = data.iloc[:, -1].apply(lambda s: int(s))\n",
        "unique_labels = data.iloc[:, -1].unique()\n",
        "\n",
        "# snapshot = tracemalloc.take_snapshot()\n",
        "# top_stats = snapshot.statistics('lineno')\n",
        "\n",
        "# # Print the memory usage for the top 10 lines\n",
        "# for stat in top_stats[:10]:\n",
        "#     print(stat)\n",
        "\n",
        "# get only n labels\n",
        "print(type(unique_labels))\n",
        "# np.random.seed(57)\n",
        "# selected_labels = random.sample(list(unique_labels), 173)\n",
        "# data = data[data.iloc[:, -1].isin(selected_labels)]\n",
        "# print(selected_labels)\n",
        "\n",
        "all_values = data.iloc[:, :-1].values.tolist()\n",
        "# mean_values = np.mean(all_values)\n",
        "# std_values = 1\n",
        "max_value = np.max(all_values)\n",
        "min_value = np.min(all_values)\n",
        "# print(f\"mean: {mean_values}, std: {std_values}, max: {max_value}, min: {min_value}\")\n",
        "# normalize_transform = Normalize(mean=mean_values, std=std_values)\n",
        "\n",
        "print(data.iloc[:, -1])\n",
        "unique_labels = data.iloc[:, -1].unique()\n",
        "print(unique_labels)\n",
        "label2class = {int(label): idx for idx, label in enumerate(unique_labels)}\n",
        "class2label = {idx: int(label) for idx, label in enumerate(unique_labels)}\n",
        "\n",
        "with open(os.path.join(BASE_PATH, 'label2class_mapping_c2000.json'), 'w') as json_file:\n",
        "    json.dump(label2class, json_file)\n",
        "with open(os.path.join(BASE_PATH, 'class2label_mapping_c2000.json'), 'w') as json_file:\n",
        "    json.dump(class2label, json_file)\n",
        "\n",
        "# dataset = SpecDataset(csv_path, label2class, mean_values, std_values, transform=normalize_transform)\n",
        "\n",
        "train_df, rem_df = train_test_split(data, train_size=0.8, random_state=57)\n",
        "valid_df, test_df = train_test_split(rem_df, test_size=0.5, random_state=57)\n",
        "train_set = SpecDataset(train_df, label2class, max_value, min_value, normalize=True)\n",
        "valid_set = SpecDataset(valid_df, label2class, max_value, min_value, normalize=True)\n",
        "test_set = SpecDataset(test_df, label2class, max_value, min_value, normalize=True)\n",
        "\n",
        "del all_values\n",
        "\n",
        "# train_size = int(train_proportion * len(dataset))\n",
        "# val_size = len(dataset) - train_size\n",
        "\n",
        "# dataloader = DataLoader(dataset, batch_size=32, shuffle=True, pin_memory=True)\n",
        "\n",
        "\n",
        "# Split the dataset into training and validation sets\n",
        "# train_set, val_set = random_split(dataset, [train_size, val_size], generator=torch.Generator().manual_seed(57))\n",
        "\n",
        "batch_size = 32\n",
        "num_workers = 2\n",
        "pin_memory = True\n",
        "\n",
        "train_loader = DataLoader(train_set, batch_size=batch_size, shuffle=True, num_workers=num_workers, pin_memory=pin_memory)\n",
        "val_loader = DataLoader(valid_set, batch_size=64, shuffle=False, num_workers=num_workers, pin_memory=pin_memory)\n",
        "test_loader = DataLoader(test_set, batch_size=64, shuffle=False, num_workers=num_workers, pin_memory=pin_memory)"
      ],
      "metadata": {
        "id": "HPBQobpsgFhJ",
        "colab": {
          "base_uri": "https://localhost:8080/"
        },
        "outputId": "16bf5348-a614-45f3-b4f2-55fa30a6a009"
      },
      "execution_count": null,
      "outputs": [
        {
          "output_type": "stream",
          "name": "stdout",
          "text": [
            "<class 'numpy.ndarray'>\n",
            "0         26502\n",
            "1         26502\n",
            "2         26502\n",
            "3         26502\n",
            "4         26502\n",
            "          ...  \n",
            "138795    94501\n",
            "138796    94501\n",
            "138797    94501\n",
            "138798    94501\n",
            "138799    94501\n",
            "Name: 2000, Length: 138800, dtype: int64\n",
            "[ 26502  39508  34504  39509  13502  39510  32502  32504  40510  30514\n",
            "  32512  40514  38502  33502  40517  43502  38508  33506  41503  52508\n",
            "  46502  47508  52513  43510  49510  47511  47512  47515  46512  43517\n",
            "  47516  47517  46514  47518  45512  45513  46518  45515  45516  46520\n",
            "  44504  50513  46521  42518  51528  44506  44507  46524  48510  45524\n",
            "  54514  56509  52507  56510  64516  58505  56511  54518  60505  64519\n",
            "  58508  65501  54521  61513  62523  53512  65502  60509  62524  53513\n",
            "  61514  55502  61515  53515  58513  56519  61516  55505  65506  58514\n",
            "  61517  65507  58515  61518  56522  65508  55507  58516  60517  63506\n",
            "  57502  58517  55509  65510  60518  55513  58518  60519  54504  55515\n",
            "  58519  64502  65514  62503  54506  60521  57507  54507  60522  62504\n",
            "  57508  66502  64505  60523  54508  57509  54509  60524  54510  56503\n",
            "  60525  66506  57512  56504  66507  56505  60999  59509  56506  67504\n",
            "  64513  61502  56508  61503  60501  68506  67502  62515  70502  67503\n",
            "  68508  75511  62516  73503  61505  70504  83502  75512  73504  94502\n",
            "  77506  70505  94503  77507  83503  77508  96501  74503  70508  69505\n",
            "  97501  76501  70509  83505  74505  76503  99501  69506  77512  70511\n",
            "  99502  99503  83506  69508  69509  78502  83507  76508  69510  69511\n",
            "  78505  71503  74514  76511  84502  69512  84503  69513  74515  71506\n",
            "  78508  76513  85501  69514  79501  74516  72501 101501  69515  76514\n",
            "  74517  72502  69516  76515  72503 102502  80503  74519 103501  72504\n",
            "  69518  80504  76516  80505 104501  72505  89501  80506  76518  89502\n",
            " 106501  89503  82502  76519 108501  73501  89504  76520  83501  90501\n",
            " 113501  76521  92502  76522  92503  93501  76523  93503  93504  93505\n",
            "  94501]\n"
          ]
        }
      ]
    },
    {
      "cell_type": "code",
      "source": [
        "#@title\n",
        "\"\"\"\n",
        "resnet for 1-d signal data, pytorch version\n",
        "\n",
        "Shenda Hong, Oct 2019\n",
        "\"\"\"\n",
        "\n",
        "import numpy as np\n",
        "from collections import Counter\n",
        "from tqdm import tqdm\n",
        "from matplotlib import pyplot as plt\n",
        "from sklearn.metrics import classification_report\n",
        "\n",
        "import torch\n",
        "import torch.nn as nn\n",
        "import torch.optim as optim\n",
        "import torch.nn.functional as F\n",
        "from torch.utils.data import Dataset, DataLoader\n",
        "\n",
        "class MyConv1dPadSame(nn.Module):\n",
        "    \"\"\"\n",
        "    extend nn.Conv1d to support SAME padding\n",
        "    \"\"\"\n",
        "    def __init__(self, in_channels, out_channels, kernel_size, stride, groups=1):\n",
        "        super(MyConv1dPadSame, self).__init__()\n",
        "        self.in_channels = in_channels\n",
        "        self.out_channels = out_channels\n",
        "        self.kernel_size = kernel_size\n",
        "        self.stride = stride\n",
        "        self.groups = groups\n",
        "        self.conv = torch.nn.Conv1d(\n",
        "            in_channels=self.in_channels,\n",
        "            out_channels=self.out_channels,\n",
        "            kernel_size=self.kernel_size,\n",
        "            stride=self.stride,\n",
        "            groups=self.groups)\n",
        "\n",
        "    def forward(self, x):\n",
        "\n",
        "        net = x\n",
        "\n",
        "        # compute pad shape\n",
        "        in_dim = net.shape[-1]\n",
        "        out_dim = (in_dim + self.stride - 1) // self.stride\n",
        "        p = max(0, (out_dim - 1) * self.stride + self.kernel_size - in_dim)\n",
        "        pad_left = p // 2\n",
        "        pad_right = p - pad_left\n",
        "        net = F.pad(net, (pad_left, pad_right), \"constant\", 0)\n",
        "\n",
        "        net = self.conv(net)\n",
        "\n",
        "        return net\n",
        "\n",
        "class MyMaxPool1dPadSame(nn.Module):\n",
        "    \"\"\"\n",
        "    extend nn.MaxPool1d to support SAME padding\n",
        "    \"\"\"\n",
        "    def __init__(self, kernel_size):\n",
        "        super(MyMaxPool1dPadSame, self).__init__()\n",
        "        self.kernel_size = kernel_size\n",
        "        self.stride = 1\n",
        "        self.max_pool = torch.nn.MaxPool1d(kernel_size=self.kernel_size)\n",
        "\n",
        "    def forward(self, x):\n",
        "\n",
        "        net = x\n",
        "\n",
        "        # compute pad shape\n",
        "        in_dim = net.shape[-1]\n",
        "        out_dim = (in_dim + self.stride - 1) // self.stride\n",
        "        p = max(0, (out_dim - 1) * self.stride + self.kernel_size - in_dim)\n",
        "        pad_left = p // 2\n",
        "        pad_right = p - pad_left\n",
        "        net = F.pad(net, (pad_left, pad_right), \"constant\", 0)\n",
        "\n",
        "        net = self.max_pool(net)\n",
        "\n",
        "        return net\n",
        "\n",
        "class BasicBlock(nn.Module):\n",
        "    \"\"\"\n",
        "    ResNet Basic Block\n",
        "    \"\"\"\n",
        "    def __init__(self, in_channels, out_channels, kernel_size, stride, groups, downsample, use_bn, use_do, is_first_block=False):\n",
        "        super(BasicBlock, self).__init__()\n",
        "\n",
        "        self.in_channels = in_channels\n",
        "        self.kernel_size = kernel_size\n",
        "        self.out_channels = out_channels\n",
        "        self.stride = stride\n",
        "        self.groups = groups\n",
        "        self.downsample = downsample\n",
        "        if self.downsample:\n",
        "            self.stride = stride\n",
        "        else:\n",
        "            self.stride = 1\n",
        "        self.is_first_block = is_first_block\n",
        "        self.use_bn = use_bn\n",
        "        self.use_do = use_do\n",
        "\n",
        "        # the first conv\n",
        "        self.bn1 = nn.BatchNorm1d(in_channels)\n",
        "        self.relu1 = nn.ReLU()\n",
        "        self.do1 = nn.Dropout(p=0.5)\n",
        "        self.conv1 = MyConv1dPadSame(\n",
        "            in_channels=in_channels,\n",
        "            out_channels=out_channels,\n",
        "            kernel_size=kernel_size,\n",
        "            stride=self.stride,\n",
        "            groups=self.groups)\n",
        "\n",
        "        # the second conv\n",
        "        self.bn2 = nn.BatchNorm1d(out_channels)\n",
        "        self.relu2 = nn.ReLU()\n",
        "        self.do2 = nn.Dropout(p=0.5)\n",
        "        self.conv2 = MyConv1dPadSame(\n",
        "            in_channels=out_channels,\n",
        "            out_channels=out_channels,\n",
        "            kernel_size=kernel_size,\n",
        "            stride=1,\n",
        "            groups=self.groups)\n",
        "\n",
        "        self.max_pool = MyMaxPool1dPadSame(kernel_size=self.stride)\n",
        "\n",
        "    def forward(self, x):\n",
        "\n",
        "        identity = x\n",
        "\n",
        "        # the first conv\n",
        "        out = x\n",
        "        if not self.is_first_block:\n",
        "            if self.use_bn:\n",
        "                out = self.bn1(out)\n",
        "            out = self.relu1(out)\n",
        "            if self.use_do:\n",
        "                out = self.do1(out)\n",
        "        out = self.conv1(out)\n",
        "\n",
        "        # the second conv\n",
        "        if self.use_bn:\n",
        "            out = self.bn2(out)\n",
        "        out = self.relu2(out)\n",
        "        if self.use_do:\n",
        "            out = self.do2(out)\n",
        "        out = self.conv2(out)\n",
        "\n",
        "        # if downsample, also downsample identity\n",
        "        if self.downsample:\n",
        "            identity = self.max_pool(identity)\n",
        "\n",
        "        # if expand channel, also pad zeros to identity\n",
        "        if self.out_channels != self.in_channels:\n",
        "            identity = identity.transpose(-1,-2)\n",
        "            ch1 = (self.out_channels-self.in_channels)//2\n",
        "            ch2 = self.out_channels-self.in_channels-ch1\n",
        "            identity = F.pad(identity, (ch1, ch2), \"constant\", 0)\n",
        "            identity = identity.transpose(-1,-2)\n",
        "\n",
        "        # shortcut\n",
        "        out += identity\n",
        "\n",
        "        return out\n",
        "\n",
        "class ResNet1D(nn.Module):\n",
        "    \"\"\"\n",
        "\n",
        "    Input:\n",
        "        X: (n_samples, n_channel, n_length)\n",
        "        Y: (n_samples)\n",
        "\n",
        "    Output:\n",
        "        out: (n_samples)\n",
        "\n",
        "    Pararmetes:\n",
        "        in_channels: dim of input, the same as n_channel\n",
        "        base_filters: number of filters in the first several Conv layer, it will double at every 4 layers\n",
        "        kernel_size: width of kernel\n",
        "        stride: stride of kernel moving\n",
        "        groups: set larget to 1 as ResNeXt\n",
        "        n_block: number of blocks\n",
        "        n_classes: number of classes\n",
        "\n",
        "    \"\"\"\n",
        "\n",
        "    def __init__(self, in_channels, base_filters, kernel_size, stride, groups, n_block, n_classes, downsample_gap=2, increasefilter_gap=4, use_bn=True, use_do=True, verbose=False):\n",
        "        super(ResNet1D, self).__init__()\n",
        "\n",
        "        self.verbose = verbose\n",
        "        self.n_block = n_block\n",
        "        self.kernel_size = kernel_size\n",
        "        self.stride = stride\n",
        "        self.groups = groups\n",
        "        self.use_bn = use_bn\n",
        "        self.use_do = use_do\n",
        "\n",
        "        self.downsample_gap = downsample_gap # 2 for base model\n",
        "        self.increasefilter_gap = increasefilter_gap # 4 for base model\n",
        "\n",
        "        # first block\n",
        "        self.first_block_conv = MyConv1dPadSame(in_channels=in_channels, out_channels=base_filters, kernel_size=self.kernel_size, stride=1)\n",
        "        self.first_block_bn = nn.BatchNorm1d(base_filters)\n",
        "        self.first_block_relu = nn.ReLU()\n",
        "        out_channels = base_filters\n",
        "\n",
        "        # residual blocks\n",
        "        self.basicblock_list = nn.ModuleList()\n",
        "        for i_block in range(self.n_block):\n",
        "            # is_first_block\n",
        "            if i_block == 0:\n",
        "                is_first_block = True\n",
        "            else:\n",
        "                is_first_block = False\n",
        "            # downsample at every self.downsample_gap blocks\n",
        "            if i_block % self.downsample_gap == 1:\n",
        "                downsample = True\n",
        "            else:\n",
        "                downsample = False\n",
        "            # in_channels and out_channels\n",
        "            if is_first_block:\n",
        "                in_channels = base_filters\n",
        "                out_channels = in_channels\n",
        "            else:\n",
        "                # increase filters at every self.increasefilter_gap blocks\n",
        "                in_channels = int(base_filters*2**((i_block-1)//self.increasefilter_gap))\n",
        "                if (i_block % self.increasefilter_gap == 0) and (i_block != 0):\n",
        "                    out_channels = in_channels * 2\n",
        "                else:\n",
        "                    out_channels = in_channels\n",
        "\n",
        "            tmp_block = BasicBlock(\n",
        "                in_channels=in_channels,\n",
        "                out_channels=out_channels,\n",
        "                kernel_size=self.kernel_size,\n",
        "                stride = self.stride,\n",
        "                groups = self.groups,\n",
        "                downsample=downsample,\n",
        "                use_bn = self.use_bn,\n",
        "                use_do = self.use_do,\n",
        "                is_first_block=is_first_block)\n",
        "            self.basicblock_list.append(tmp_block)\n",
        "\n",
        "        # final prediction\n",
        "        self.final_bn = nn.BatchNorm1d(out_channels)\n",
        "        self.final_relu = nn.ReLU(inplace=True)\n",
        "        # self.do = nn.Dropout(p=0.5)\n",
        "        self.dense = nn.Linear(out_channels, n_classes)\n",
        "        # self.softmax = nn.Softmax(dim=1)\n",
        "\n",
        "    def forward(self, x):\n",
        "\n",
        "        out = x\n",
        "\n",
        "        # first conv\n",
        "        if self.verbose:\n",
        "            print('input shape', out.shape)\n",
        "        out = self.first_block_conv(out)\n",
        "        if self.verbose:\n",
        "            print('after first conv', out.shape)\n",
        "        if self.use_bn:\n",
        "            out = self.first_block_bn(out)\n",
        "        out = self.first_block_relu(out)\n",
        "\n",
        "        # residual blocks, every block has two conv\n",
        "        for i_block in range(self.n_block):\n",
        "            net = self.basicblock_list[i_block]\n",
        "            if self.verbose:\n",
        "                print('i_block: {0}, in_channels: {1}, out_channels: {2}, downsample: {3}'.format(i_block, net.in_channels, net.out_channels, net.downsample))\n",
        "            out = net(out)\n",
        "            if self.verbose:\n",
        "                print(out.shape)\n",
        "\n",
        "\n",
        "        # final prediction\n",
        "        if self.use_bn:\n",
        "            out = self.final_bn(out)\n",
        "        out = self.final_relu(out)\n",
        "        out = out.mean(-1)\n",
        "        if self.verbose:\n",
        "            print('final pooling', out.shape)\n",
        "        # out = self.do(out)\n",
        "        out = self.dense(out)\n",
        "        if self.verbose:\n",
        "            print('dense', out.shape)\n",
        "        # out = self.softmax(out)\n",
        "        if self.verbose:\n",
        "            print('softmax', out.shape)\n",
        "\n",
        "        return out"
      ],
      "metadata": {
        "id": "0RIh6IaxBZOt",
        "cellView": "form"
      },
      "execution_count": null,
      "outputs": []
    },
    {
      "cell_type": "code",
      "source": [
        "import numpy as np\n",
        "from collections import Counter\n",
        "from tqdm import tqdm\n",
        "from matplotlib import pyplot as plt\n",
        "from sklearn.metrics import classification_report, confusion_matrix\n",
        "\n",
        "import torch\n",
        "import torch.nn as nn\n",
        "import torch.optim as optim\n",
        "import torch.nn.functional as F\n",
        "from torch.utils.data import Dataset, DataLoader\n",
        "from torchsummary import summary\n",
        "\n",
        "import copy"
      ],
      "metadata": {
        "id": "g_Bi56pQCqFn"
      },
      "execution_count": null,
      "outputs": []
    },
    {
      "cell_type": "markdown",
      "source": [
        "# Build model"
      ],
      "metadata": {
        "id": "uPMQ8x2nyX48"
      }
    },
    {
      "cell_type": "code",
      "source": [
        "# @title\n",
        "class Conv1dNet3(nn.Module):\n",
        "  def __init__(self, base_filters, kernel_size, stride, n_classes):\n",
        "    super(Conv1dNet3, self).__init__()\n",
        "\n",
        "    self.base_filters = base_filters\n",
        "    self.kernel_size = kernel_size\n",
        "    self.stride = stride\n",
        "\n",
        "\n",
        "    self.conv1 = torch.nn.Conv1d(\n",
        "            in_channels=1,\n",
        "            out_channels=16,\n",
        "            kernel_size=self.kernel_size,\n",
        "            stride=self.stride)\n",
        "    self.relu1 = nn.ReLU()\n",
        "    self.maxpool1 = torch.nn.MaxPool1d(kernel_size=self.kernel_size, stride=2)\n",
        "    self.conv2 = torch.nn.Conv1d(\n",
        "            in_channels=16,\n",
        "            out_channels=32,\n",
        "            kernel_size=self.kernel_size,\n",
        "            stride=self.stride)\n",
        "    self.relu2 = nn.ReLU()\n",
        "    self.maxpool2 = torch.nn.MaxPool1d(kernel_size=self.kernel_size, stride=2)\n",
        "    self.conv3 = torch.nn.Conv1d(\n",
        "            in_channels=32,\n",
        "            out_channels=64,\n",
        "            kernel_size=self.kernel_size,\n",
        "            stride=self.stride)\n",
        "    self.relu3 = nn.ReLU()\n",
        "    self.maxpool3 = torch.nn.MaxPool1d(kernel_size=self.kernel_size, stride=2)\n",
        "\n",
        "    self.final_relu = nn.ReLU(inplace=True)\n",
        "    self.dense = nn.Linear(15552, n_classes)\n",
        "    self.final_sm = nn.Softmax(dim=1)\n",
        "\n",
        "  def forward(self, x):\n",
        "    out = x\n",
        "    out = self.maxpool1(self.relu1(self.conv1(out)))\n",
        "    out = self.maxpool2(self.relu2(self.conv2(out)))\n",
        "    out = self.maxpool3(self.relu3(self.conv3(out)))\n",
        "    # out = self.final_relu(out)\n",
        "    out = out.view(out.size(0), -1)\n",
        "    out = self.dense(out)\n",
        "    # out = self.final_sm(out)\n",
        "\n",
        "    return out"
      ],
      "metadata": {
        "id": "fwB4k0lVfN3K"
      },
      "execution_count": null,
      "outputs": []
    },
    {
      "cell_type": "code",
      "source": [
        "# make model\n",
        "device_str = \"cuda\"\n",
        "device = torch.device(device_str if torch.cuda.is_available() else \"cpu\")\n",
        "kernel_size = 5\n",
        "stride = 2\n",
        "n_block = 3\n",
        "downsample_gap = 1\n",
        "increasefilter_gap = 1\n",
        "\n",
        "model = Conv1dNet3(\n",
        "    base_filters = 16,\n",
        "    kernel_size = 5,\n",
        "    stride = 1,\n",
        "    n_classes = 241\n",
        ")\n",
        "model.to(device)\n",
        "\n",
        "summary(model, (1, 2000), device=device_str)"
      ],
      "metadata": {
        "colab": {
          "base_uri": "https://localhost:8080/"
        },
        "id": "4iD40w1ka-8P",
        "outputId": "3b10b4d7-a7d6-4e57-c794-d226e4f8777b"
      },
      "execution_count": null,
      "outputs": [
        {
          "output_type": "stream",
          "name": "stdout",
          "text": [
            "----------------------------------------------------------------\n",
            "        Layer (type)               Output Shape         Param #\n",
            "================================================================\n",
            "            Conv1d-1             [-1, 16, 1996]              96\n",
            "              ReLU-2             [-1, 16, 1996]               0\n",
            "         MaxPool1d-3              [-1, 16, 996]               0\n",
            "            Conv1d-4              [-1, 32, 992]           2,592\n",
            "              ReLU-5              [-1, 32, 992]               0\n",
            "         MaxPool1d-6              [-1, 32, 494]               0\n",
            "            Conv1d-7              [-1, 64, 490]          10,304\n",
            "              ReLU-8              [-1, 64, 490]               0\n",
            "         MaxPool1d-9              [-1, 64, 243]               0\n",
            "           Linear-10                  [-1, 241]       3,748,273\n",
            "================================================================\n",
            "Total params: 3,761,265\n",
            "Trainable params: 3,761,265\n",
            "Non-trainable params: 0\n",
            "----------------------------------------------------------------\n",
            "Input size (MB): 0.01\n",
            "Forward/backward pass size (MB): 1.81\n",
            "Params size (MB): 14.35\n",
            "Estimated Total Size (MB): 16.17\n",
            "----------------------------------------------------------------\n"
          ]
        }
      ]
    },
    {
      "cell_type": "markdown",
      "source": [
        "# Training"
      ],
      "metadata": {
        "id": "0ophuzRxydT3"
      }
    },
    {
      "cell_type": "code",
      "source": [
        "# train and test\n",
        "model.verbose = False\n",
        "optimizer = optim.Adam(model.parameters(), lr=1e-3, weight_decay=0)\n",
        "scheduler = torch.optim.lr_scheduler.ReduceLROnPlateau(optimizer, mode='min', factor=0.7, patience=3)\n",
        "loss_func = torch.nn.CrossEntropyLoss()\n",
        "\n",
        "n_epoch = 45\n",
        "step = 0\n",
        "\n",
        "# Set early stopping parameters\n",
        "patience = 6\n",
        "min_delta = 0.001\n",
        "best_val_loss = float('inf')\n",
        "epochs_without_improvement = 0\n",
        "\n",
        "best_model_state = None\n",
        "\n",
        "for epoch in tqdm(range(n_epoch), desc=\"epoch\", position=0, leave=True):\n",
        "\n",
        "    # train\n",
        "    model.train()\n",
        "    prog_iter = tqdm(train_loader, desc=\"Training\", position=0, leave=True)\n",
        "    train_loss = []\n",
        "    train_accs = []\n",
        "\n",
        "    for batch_idx, batch in enumerate(prog_iter):\n",
        "\n",
        "        input_x, labels = tuple(t.to(device) for t in batch)\n",
        "        # print(input_x.size())\n",
        "        logits = model(input_x)\n",
        "        loss = loss_func(logits, labels)\n",
        "        optimizer.zero_grad()\n",
        "        loss.backward()\n",
        "        optimizer.step()\n",
        "\n",
        "        acc = (logits.argmax(dim=-1) == labels.to(device)).float().mean()\n",
        "        # print(f\"logits: {logits.argmax(dim=-1)}, labels: {labels.to(device)}\")\n",
        "\n",
        "        train_loss.append(loss.item())\n",
        "        train_accs.append(acc)\n",
        "\n",
        "        step += 1\n",
        "        # if step > 10:\n",
        "        #   break\n",
        "\n",
        "\n",
        "\n",
        "    scheduler.step(epoch)\n",
        "\n",
        "    train_loss = sum(train_loss) / len(train_loss)\n",
        "    train_acc = sum(train_accs) / len(train_accs)\n",
        "    # Print the information.\n",
        "    print(f\"[ Train | {epoch + 1:03d}/{n_epoch:03d} ] loss = {train_loss:.5f}, acc = {train_acc:.5f}\")\n",
        "\n",
        "\n",
        "    # test\n",
        "    model.eval()\n",
        "    prog_iter_test = tqdm(val_loader, desc=\"Validating\", position=0, leave=True)\n",
        "    all_pred_prob = []\n",
        "\n",
        "    valid_loss = []\n",
        "    valid_accs = []\n",
        "    valid_ys = []\n",
        "\n",
        "\n",
        "\n",
        "    with torch.no_grad():\n",
        "        for batch_idx, batch in enumerate(prog_iter_test):\n",
        "            input_x, labels = tuple(t.to(device) for t in batch)\n",
        "            logits = model(input_x)\n",
        "\n",
        "            # We can still compute the loss (but not the gradient).\n",
        "            loss = loss_func(logits, labels.to(device))\n",
        "\n",
        "            # Compute the accuracy for current batch.\n",
        "            acc = (logits.argmax(dim=-1) == labels.to(device)).float().mean()\n",
        "            # print(f\"logits: {logits.argmax(dim=-1)}, labels: {labels.to(device)}\")\n",
        "            if epoch == n_epoch-1:\n",
        "                valid_ys.extend(logits.argmax(dim=-1))\n",
        "\n",
        "            # Record the loss and accuracy.\n",
        "            valid_loss.append(loss.item())\n",
        "            valid_accs.append(acc)\n",
        "\n",
        "        # The average loss and accuracy for entire validation set is the average of the recorded values.\n",
        "        valid_loss = sum(valid_loss) / len(valid_loss)\n",
        "        valid_acc = sum(valid_accs) / len(valid_accs)\n",
        "\n",
        "        # Print the information.\n",
        "        print(f\"\\n[ Valid | {epoch + 1:03d}/{n_epoch:03d} ] loss = {valid_loss:.5f}, acc = {valid_acc:.5f}\")\n",
        "\n",
        "        # Check for early stopping\n",
        "        if valid_loss + min_delta < best_val_loss:\n",
        "            best_val_loss = valid_loss\n",
        "            epochs_without_improvement = 0\n",
        "            best_model_state = copy.deepcopy(model.state_dict())\n",
        "            # torch.save(model.state_dict(), SAVE_PATH)\n",
        "        else:\n",
        "            epochs_without_improvement += 1\n",
        "\n",
        "        if epochs_without_improvement >= patience:\n",
        "            print(\"Early stopping: Validation loss did not improve for {} consecutive epochs.\".format(patience))\n",
        "            break\n",
        "\n"
      ],
      "metadata": {
        "id": "YfrehLK7jBD7",
        "colab": {
          "base_uri": "https://localhost:8080/"
        },
        "outputId": "e5d835c8-0490-49c2-cc90-fdaf15674ae7"
      },
      "execution_count": null,
      "outputs": [
        {
          "output_type": "stream",
          "name": "stderr",
          "text": [
            "Training: 100%|██████████| 3470/3470 [00:16<00:00, 215.30it/s]\n"
          ]
        },
        {
          "output_type": "stream",
          "name": "stdout",
          "text": [
            "[ Train | 001/045 ] loss = 2.71981, acc = 0.54967\n"
          ]
        },
        {
          "output_type": "stream",
          "name": "stderr",
          "text": [
            "Validating: 100%|██████████| 217/217 [00:00<00:00, 226.86it/s]\n",
            "epoch:   2%|▏         | 1/45 [00:17<12:33, 17.12s/it]"
          ]
        },
        {
          "output_type": "stream",
          "name": "stdout",
          "text": [
            "\n",
            "[ Valid | 001/045 ] loss = 2.41874, acc = 0.60733\n"
          ]
        },
        {
          "output_type": "stream",
          "name": "stderr",
          "text": [
            "Training: 100%|██████████| 3470/3470 [00:15<00:00, 230.42it/s]\n"
          ]
        },
        {
          "output_type": "stream",
          "name": "stdout",
          "text": [
            "[ Train | 002/045 ] loss = 1.84427, acc = 0.70032\n"
          ]
        },
        {
          "output_type": "stream",
          "name": "stderr",
          "text": [
            "Validating: 100%|██████████| 217/217 [00:00<00:00, 222.81it/s]\n",
            "epoch:   4%|▍         | 2/45 [00:33<11:49, 16.51s/it]"
          ]
        },
        {
          "output_type": "stream",
          "name": "stdout",
          "text": [
            "\n",
            "[ Valid | 002/045 ] loss = 1.44764, acc = 0.79186\n"
          ]
        },
        {
          "output_type": "stream",
          "name": "stderr",
          "text": [
            "Training: 100%|██████████| 3470/3470 [00:15<00:00, 229.97it/s]\n"
          ]
        },
        {
          "output_type": "stream",
          "name": "stdout",
          "text": [
            "[ Train | 003/045 ] loss = 1.53767, acc = 0.74365\n"
          ]
        },
        {
          "output_type": "stream",
          "name": "stderr",
          "text": [
            "Validating: 100%|██████████| 217/217 [00:01<00:00, 199.21it/s]\n",
            "epoch:   7%|▋         | 3/45 [00:49<11:27, 16.38s/it]"
          ]
        },
        {
          "output_type": "stream",
          "name": "stdout",
          "text": [
            "\n",
            "[ Valid | 003/045 ] loss = 1.27531, acc = 0.76521\n"
          ]
        },
        {
          "output_type": "stream",
          "name": "stderr",
          "text": [
            "Training: 100%|██████████| 3470/3470 [00:15<00:00, 229.37it/s]\n"
          ]
        },
        {
          "output_type": "stream",
          "name": "stdout",
          "text": [
            "[ Train | 004/045 ] loss = 1.29323, acc = 0.78130\n"
          ]
        },
        {
          "output_type": "stream",
          "name": "stderr",
          "text": [
            "Validating: 100%|██████████| 217/217 [00:00<00:00, 224.74it/s]\n",
            "epoch:   9%|▉         | 4/45 [01:05<11:07, 16.28s/it]"
          ]
        },
        {
          "output_type": "stream",
          "name": "stdout",
          "text": [
            "\n",
            "[ Valid | 004/045 ] loss = 1.24836, acc = 0.79619\n"
          ]
        },
        {
          "output_type": "stream",
          "name": "stderr",
          "text": [
            "Training: 100%|██████████| 3470/3470 [00:15<00:00, 230.36it/s]\n"
          ]
        },
        {
          "output_type": "stream",
          "name": "stdout",
          "text": [
            "[ Train | 005/045 ] loss = 1.13296, acc = 0.81257\n"
          ]
        },
        {
          "output_type": "stream",
          "name": "stderr",
          "text": [
            "Validating: 100%|██████████| 217/217 [00:00<00:00, 229.71it/s]\n",
            "epoch:  11%|█         | 5/45 [01:21<10:47, 16.20s/it]"
          ]
        },
        {
          "output_type": "stream",
          "name": "stdout",
          "text": [
            "\n",
            "[ Valid | 005/045 ] loss = 1.15013, acc = 0.84352\n"
          ]
        },
        {
          "output_type": "stream",
          "name": "stderr",
          "text": [
            "Training: 100%|██████████| 3470/3470 [00:14<00:00, 232.69it/s]\n"
          ]
        },
        {
          "output_type": "stream",
          "name": "stdout",
          "text": [
            "[ Train | 006/045 ] loss = 0.96201, acc = 0.84397\n"
          ]
        },
        {
          "output_type": "stream",
          "name": "stderr",
          "text": [
            "Validating: 100%|██████████| 217/217 [00:01<00:00, 211.78it/s]\n",
            "epoch:  13%|█▎        | 6/45 [01:37<10:28, 16.12s/it]"
          ]
        },
        {
          "output_type": "stream",
          "name": "stdout",
          "text": [
            "\n",
            "[ Valid | 006/045 ] loss = 1.12344, acc = 0.84929\n"
          ]
        },
        {
          "output_type": "stream",
          "name": "stderr",
          "text": [
            "Training: 100%|██████████| 3470/3470 [00:15<00:00, 225.13it/s]\n"
          ]
        },
        {
          "output_type": "stream",
          "name": "stdout",
          "text": [
            "[ Train | 007/045 ] loss = 0.86984, acc = 0.86146\n"
          ]
        },
        {
          "output_type": "stream",
          "name": "stderr",
          "text": [
            "Validating: 100%|██████████| 217/217 [00:00<00:00, 225.18it/s]\n",
            "epoch:  16%|█▌        | 7/45 [01:54<10:16, 16.22s/it]"
          ]
        },
        {
          "output_type": "stream",
          "name": "stdout",
          "text": [
            "\n",
            "[ Valid | 007/045 ] loss = 0.76825, acc = 0.86887\n"
          ]
        },
        {
          "output_type": "stream",
          "name": "stderr",
          "text": [
            "Training: 100%|██████████| 3470/3470 [00:15<00:00, 227.79it/s]\n"
          ]
        },
        {
          "output_type": "stream",
          "name": "stdout",
          "text": [
            "[ Train | 008/045 ] loss = 0.80601, acc = 0.86999\n"
          ]
        },
        {
          "output_type": "stream",
          "name": "stderr",
          "text": [
            "Validating: 100%|██████████| 217/217 [00:01<00:00, 214.95it/s]\n",
            "epoch:  18%|█▊        | 8/45 [02:10<10:00, 16.24s/it]"
          ]
        },
        {
          "output_type": "stream",
          "name": "stdout",
          "text": [
            "\n",
            "[ Valid | 008/045 ] loss = 0.65834, acc = 0.89751\n"
          ]
        },
        {
          "output_type": "stream",
          "name": "stderr",
          "text": [
            "Training: 100%|██████████| 3470/3470 [00:15<00:00, 227.02it/s]\n"
          ]
        },
        {
          "output_type": "stream",
          "name": "stdout",
          "text": [
            "[ Train | 009/045 ] loss = 0.74053, acc = 0.87957\n"
          ]
        },
        {
          "output_type": "stream",
          "name": "stderr",
          "text": [
            "Validating: 100%|██████████| 217/217 [00:00<00:00, 220.64it/s]\n",
            "epoch:  20%|██        | 9/45 [02:26<09:45, 16.26s/it]"
          ]
        },
        {
          "output_type": "stream",
          "name": "stdout",
          "text": [
            "\n",
            "[ Valid | 009/045 ] loss = 0.76413, acc = 0.85895\n"
          ]
        },
        {
          "output_type": "stream",
          "name": "stderr",
          "text": [
            "Training: 100%|██████████| 3470/3470 [00:15<00:00, 229.51it/s]\n"
          ]
        },
        {
          "output_type": "stream",
          "name": "stdout",
          "text": [
            "[ Train | 010/045 ] loss = 0.65968, acc = 0.89356\n"
          ]
        },
        {
          "output_type": "stream",
          "name": "stderr",
          "text": [
            "Validating: 100%|██████████| 217/217 [00:01<00:00, 199.95it/s]\n",
            "epoch:  22%|██▏       | 10/45 [02:42<09:29, 16.26s/it]"
          ]
        },
        {
          "output_type": "stream",
          "name": "stdout",
          "text": [
            "\n",
            "[ Valid | 010/045 ] loss = 0.96004, acc = 0.86672\n"
          ]
        },
        {
          "output_type": "stream",
          "name": "stderr",
          "text": [
            "Training: 100%|██████████| 3470/3470 [00:15<00:00, 226.64it/s]\n"
          ]
        },
        {
          "output_type": "stream",
          "name": "stdout",
          "text": [
            "[ Train | 011/045 ] loss = 0.63229, acc = 0.89806\n"
          ]
        },
        {
          "output_type": "stream",
          "name": "stderr",
          "text": [
            "Validating: 100%|██████████| 217/217 [00:00<00:00, 220.31it/s]\n",
            "epoch:  24%|██▍       | 11/45 [02:59<09:13, 16.28s/it]"
          ]
        },
        {
          "output_type": "stream",
          "name": "stdout",
          "text": [
            "\n",
            "[ Valid | 011/045 ] loss = 0.52391, acc = 0.92810\n"
          ]
        },
        {
          "output_type": "stream",
          "name": "stderr",
          "text": [
            "Training: 100%|██████████| 3470/3470 [00:15<00:00, 229.10it/s]\n"
          ]
        },
        {
          "output_type": "stream",
          "name": "stdout",
          "text": [
            "[ Train | 012/045 ] loss = 0.58791, acc = 0.90291\n"
          ]
        },
        {
          "output_type": "stream",
          "name": "stderr",
          "text": [
            "Validating: 100%|██████████| 217/217 [00:00<00:00, 221.43it/s]\n",
            "epoch:  27%|██▋       | 12/45 [03:15<08:56, 16.25s/it]"
          ]
        },
        {
          "output_type": "stream",
          "name": "stdout",
          "text": [
            "\n",
            "[ Valid | 012/045 ] loss = 0.60618, acc = 0.87013\n"
          ]
        },
        {
          "output_type": "stream",
          "name": "stderr",
          "text": [
            "Training: 100%|██████████| 3470/3470 [00:15<00:00, 226.24it/s]\n"
          ]
        },
        {
          "output_type": "stream",
          "name": "stdout",
          "text": [
            "[ Train | 013/045 ] loss = 0.55109, acc = 0.90969\n"
          ]
        },
        {
          "output_type": "stream",
          "name": "stderr",
          "text": [
            "Validating: 100%|██████████| 217/217 [00:01<00:00, 208.89it/s]\n",
            "epoch:  29%|██▉       | 13/45 [03:31<08:41, 16.30s/it]"
          ]
        },
        {
          "output_type": "stream",
          "name": "stdout",
          "text": [
            "\n",
            "[ Valid | 013/045 ] loss = 0.51571, acc = 0.90231\n"
          ]
        },
        {
          "output_type": "stream",
          "name": "stderr",
          "text": [
            "Training: 100%|██████████| 3470/3470 [00:15<00:00, 227.40it/s]\n"
          ]
        },
        {
          "output_type": "stream",
          "name": "stdout",
          "text": [
            "[ Train | 014/045 ] loss = 0.50590, acc = 0.91515\n"
          ]
        },
        {
          "output_type": "stream",
          "name": "stderr",
          "text": [
            "Validating: 100%|██████████| 217/217 [00:01<00:00, 212.84it/s]\n",
            "epoch:  31%|███       | 14/45 [03:48<08:25, 16.31s/it]"
          ]
        },
        {
          "output_type": "stream",
          "name": "stdout",
          "text": [
            "\n",
            "[ Valid | 014/045 ] loss = 0.56795, acc = 0.90859\n"
          ]
        },
        {
          "output_type": "stream",
          "name": "stderr",
          "text": [
            "Training: 100%|██████████| 3470/3470 [00:15<00:00, 227.91it/s]\n"
          ]
        },
        {
          "output_type": "stream",
          "name": "stdout",
          "text": [
            "[ Train | 015/045 ] loss = 0.48762, acc = 0.91806\n"
          ]
        },
        {
          "output_type": "stream",
          "name": "stderr",
          "text": [
            "Validating: 100%|██████████| 217/217 [00:00<00:00, 218.30it/s]\n",
            "epoch:  33%|███▎      | 15/45 [04:04<08:08, 16.29s/it]"
          ]
        },
        {
          "output_type": "stream",
          "name": "stdout",
          "text": [
            "\n",
            "[ Valid | 015/045 ] loss = 0.56284, acc = 0.88971\n"
          ]
        },
        {
          "output_type": "stream",
          "name": "stderr",
          "text": [
            "Training: 100%|██████████| 3470/3470 [00:15<00:00, 227.99it/s]\n"
          ]
        },
        {
          "output_type": "stream",
          "name": "stdout",
          "text": [
            "[ Train | 016/045 ] loss = 0.45920, acc = 0.92104\n"
          ]
        },
        {
          "output_type": "stream",
          "name": "stderr",
          "text": [
            "Validating: 100%|██████████| 217/217 [00:00<00:00, 220.39it/s]\n",
            "epoch:  36%|███▌      | 16/45 [04:20<07:52, 16.28s/it]"
          ]
        },
        {
          "output_type": "stream",
          "name": "stdout",
          "text": [
            "\n",
            "[ Valid | 016/045 ] loss = 0.61202, acc = 0.87905\n"
          ]
        },
        {
          "output_type": "stream",
          "name": "stderr",
          "text": [
            "Training: 100%|██████████| 3470/3470 [00:15<00:00, 228.87it/s]\n"
          ]
        },
        {
          "output_type": "stream",
          "name": "stdout",
          "text": [
            "[ Train | 017/045 ] loss = 0.45552, acc = 0.92445\n"
          ]
        },
        {
          "output_type": "stream",
          "name": "stderr",
          "text": [
            "Validating: 100%|██████████| 217/217 [00:01<00:00, 205.90it/s]\n",
            "epoch:  38%|███▊      | 17/45 [04:36<07:35, 16.27s/it]"
          ]
        },
        {
          "output_type": "stream",
          "name": "stdout",
          "text": [
            "\n",
            "[ Valid | 017/045 ] loss = 0.38720, acc = 0.93400\n"
          ]
        },
        {
          "output_type": "stream",
          "name": "stderr",
          "text": [
            "Training: 100%|██████████| 3470/3470 [00:15<00:00, 227.16it/s]\n"
          ]
        },
        {
          "output_type": "stream",
          "name": "stdout",
          "text": [
            "[ Train | 018/045 ] loss = 0.41714, acc = 0.93102\n"
          ]
        },
        {
          "output_type": "stream",
          "name": "stderr",
          "text": [
            "Validating: 100%|██████████| 217/217 [00:01<00:00, 206.49it/s]\n",
            "epoch:  40%|████      | 18/45 [04:53<07:20, 16.30s/it]"
          ]
        },
        {
          "output_type": "stream",
          "name": "stdout",
          "text": [
            "\n",
            "[ Valid | 018/045 ] loss = 0.51220, acc = 0.89598\n"
          ]
        },
        {
          "output_type": "stream",
          "name": "stderr",
          "text": [
            "Training: 100%|██████████| 3470/3470 [00:15<00:00, 227.43it/s]\n"
          ]
        },
        {
          "output_type": "stream",
          "name": "stdout",
          "text": [
            "[ Train | 019/045 ] loss = 0.40658, acc = 0.93288\n"
          ]
        },
        {
          "output_type": "stream",
          "name": "stderr",
          "text": [
            "Validating: 100%|██████████| 217/217 [00:00<00:00, 219.65it/s]\n",
            "epoch:  42%|████▏     | 19/45 [05:09<07:03, 16.30s/it]"
          ]
        },
        {
          "output_type": "stream",
          "name": "stdout",
          "text": [
            "\n",
            "[ Valid | 019/045 ] loss = 0.47003, acc = 0.92933\n"
          ]
        },
        {
          "output_type": "stream",
          "name": "stderr",
          "text": [
            "Training: 100%|██████████| 3470/3470 [00:15<00:00, 226.26it/s]\n"
          ]
        },
        {
          "output_type": "stream",
          "name": "stdout",
          "text": [
            "[ Train | 020/045 ] loss = 0.38968, acc = 0.93578\n"
          ]
        },
        {
          "output_type": "stream",
          "name": "stderr",
          "text": [
            "Validating: 100%|██████████| 217/217 [00:01<00:00, 215.95it/s]\n",
            "epoch:  44%|████▍     | 20/45 [05:25<06:48, 16.32s/it]"
          ]
        },
        {
          "output_type": "stream",
          "name": "stdout",
          "text": [
            "\n",
            "[ Valid | 020/045 ] loss = 0.40985, acc = 0.91875\n"
          ]
        },
        {
          "output_type": "stream",
          "name": "stderr",
          "text": [
            "Training: 100%|██████████| 3470/3470 [00:15<00:00, 226.14it/s]\n"
          ]
        },
        {
          "output_type": "stream",
          "name": "stdout",
          "text": [
            "[ Train | 021/045 ] loss = 0.39222, acc = 0.93613\n"
          ]
        },
        {
          "output_type": "stream",
          "name": "stderr",
          "text": [
            "Validating: 100%|██████████| 217/217 [00:01<00:00, 197.42it/s]\n",
            "epoch:  47%|████▋     | 21/45 [05:42<06:32, 16.37s/it]"
          ]
        },
        {
          "output_type": "stream",
          "name": "stdout",
          "text": [
            "\n",
            "[ Valid | 021/045 ] loss = 0.35327, acc = 0.93236\n"
          ]
        },
        {
          "output_type": "stream",
          "name": "stderr",
          "text": [
            "Training: 100%|██████████| 3470/3470 [00:15<00:00, 227.56it/s]\n"
          ]
        },
        {
          "output_type": "stream",
          "name": "stdout",
          "text": [
            "[ Train | 022/045 ] loss = 0.35169, acc = 0.94099\n"
          ]
        },
        {
          "output_type": "stream",
          "name": "stderr",
          "text": [
            "Validating: 100%|██████████| 217/217 [00:01<00:00, 214.47it/s]\n",
            "epoch:  49%|████▉     | 22/45 [05:58<06:16, 16.35s/it]"
          ]
        },
        {
          "output_type": "stream",
          "name": "stdout",
          "text": [
            "\n",
            "[ Valid | 022/045 ] loss = 0.46818, acc = 0.92471\n"
          ]
        },
        {
          "output_type": "stream",
          "name": "stderr",
          "text": [
            "Training: 100%|██████████| 3470/3470 [00:15<00:00, 225.67it/s]\n"
          ]
        },
        {
          "output_type": "stream",
          "name": "stdout",
          "text": [
            "[ Train | 023/045 ] loss = 0.34647, acc = 0.94291\n"
          ]
        },
        {
          "output_type": "stream",
          "name": "stderr",
          "text": [
            "Validating: 100%|██████████| 217/217 [00:00<00:00, 223.54it/s]\n",
            "epoch:  51%|█████     | 23/45 [06:15<05:59, 16.36s/it]"
          ]
        },
        {
          "output_type": "stream",
          "name": "stdout",
          "text": [
            "\n",
            "[ Valid | 023/045 ] loss = 0.36219, acc = 0.94734\n"
          ]
        },
        {
          "output_type": "stream",
          "name": "stderr",
          "text": [
            "Training: 100%|██████████| 3470/3470 [00:15<00:00, 226.68it/s]\n"
          ]
        },
        {
          "output_type": "stream",
          "name": "stdout",
          "text": [
            "[ Train | 024/045 ] loss = 0.33719, acc = 0.94582\n"
          ]
        },
        {
          "output_type": "stream",
          "name": "stderr",
          "text": [
            "Validating: 100%|██████████| 217/217 [00:01<00:00, 189.74it/s]\n",
            "epoch:  53%|█████▎    | 24/45 [06:31<05:44, 16.40s/it]"
          ]
        },
        {
          "output_type": "stream",
          "name": "stdout",
          "text": [
            "\n",
            "[ Valid | 024/045 ] loss = 0.29776, acc = 0.95555\n"
          ]
        },
        {
          "output_type": "stream",
          "name": "stderr",
          "text": [
            "Training: 100%|██████████| 3470/3470 [00:15<00:00, 226.55it/s]\n"
          ]
        },
        {
          "output_type": "stream",
          "name": "stdout",
          "text": [
            "[ Train | 025/045 ] loss = 0.33331, acc = 0.94407\n"
          ]
        },
        {
          "output_type": "stream",
          "name": "stderr",
          "text": [
            "Validating: 100%|██████████| 217/217 [00:00<00:00, 217.57it/s]\n",
            "epoch:  56%|█████▌    | 25/45 [06:47<05:27, 16.39s/it]"
          ]
        },
        {
          "output_type": "stream",
          "name": "stdout",
          "text": [
            "\n",
            "[ Valid | 025/045 ] loss = 0.29571, acc = 0.95937\n"
          ]
        },
        {
          "output_type": "stream",
          "name": "stderr",
          "text": [
            "Training: 100%|██████████| 3470/3470 [00:15<00:00, 229.15it/s]\n"
          ]
        },
        {
          "output_type": "stream",
          "name": "stdout",
          "text": [
            "[ Train | 026/045 ] loss = 0.31126, acc = 0.95053\n"
          ]
        },
        {
          "output_type": "stream",
          "name": "stderr",
          "text": [
            "Validating: 100%|██████████| 217/217 [00:01<00:00, 209.40it/s]\n",
            "epoch:  58%|█████▊    | 26/45 [07:04<05:10, 16.34s/it]"
          ]
        },
        {
          "output_type": "stream",
          "name": "stdout",
          "text": [
            "\n",
            "[ Valid | 026/045 ] loss = 0.32233, acc = 0.96009\n"
          ]
        },
        {
          "output_type": "stream",
          "name": "stderr",
          "text": [
            "Training: 100%|██████████| 3470/3470 [00:15<00:00, 228.21it/s]\n"
          ]
        },
        {
          "output_type": "stream",
          "name": "stdout",
          "text": [
            "[ Train | 027/045 ] loss = 0.31419, acc = 0.95008\n"
          ]
        },
        {
          "output_type": "stream",
          "name": "stderr",
          "text": [
            "Validating: 100%|██████████| 217/217 [00:01<00:00, 197.83it/s]\n",
            "epoch:  60%|██████    | 27/45 [07:20<04:54, 16.34s/it]"
          ]
        },
        {
          "output_type": "stream",
          "name": "stdout",
          "text": [
            "\n",
            "[ Valid | 027/045 ] loss = 0.28464, acc = 0.96124\n"
          ]
        },
        {
          "output_type": "stream",
          "name": "stderr",
          "text": [
            "Training: 100%|██████████| 3470/3470 [00:15<00:00, 227.03it/s]\n"
          ]
        },
        {
          "output_type": "stream",
          "name": "stdout",
          "text": [
            "[ Train | 028/045 ] loss = 0.30985, acc = 0.94974\n"
          ]
        },
        {
          "output_type": "stream",
          "name": "stderr",
          "text": [
            "Validating: 100%|██████████| 217/217 [00:01<00:00, 199.63it/s]\n",
            "epoch:  62%|██████▏   | 28/45 [07:36<04:38, 16.36s/it]"
          ]
        },
        {
          "output_type": "stream",
          "name": "stdout",
          "text": [
            "\n",
            "[ Valid | 028/045 ] loss = 0.28078, acc = 0.96246\n"
          ]
        },
        {
          "output_type": "stream",
          "name": "stderr",
          "text": [
            "Training: 100%|██████████| 3470/3470 [00:15<00:00, 228.53it/s]\n"
          ]
        },
        {
          "output_type": "stream",
          "name": "stdout",
          "text": [
            "[ Train | 029/045 ] loss = 0.29696, acc = 0.95093\n"
          ]
        },
        {
          "output_type": "stream",
          "name": "stderr",
          "text": [
            "Validating: 100%|██████████| 217/217 [00:00<00:00, 219.64it/s]\n",
            "epoch:  64%|██████▍   | 29/45 [07:53<04:21, 16.32s/it]"
          ]
        },
        {
          "output_type": "stream",
          "name": "stdout",
          "text": [
            "\n",
            "[ Valid | 029/045 ] loss = 0.28289, acc = 0.95217\n"
          ]
        },
        {
          "output_type": "stream",
          "name": "stderr",
          "text": [
            "Training: 100%|██████████| 3470/3470 [00:15<00:00, 224.23it/s]\n"
          ]
        },
        {
          "output_type": "stream",
          "name": "stdout",
          "text": [
            "[ Train | 030/045 ] loss = 0.28896, acc = 0.95303\n"
          ]
        },
        {
          "output_type": "stream",
          "name": "stderr",
          "text": [
            "Validating: 100%|██████████| 217/217 [00:00<00:00, 222.91it/s]\n",
            "epoch:  67%|██████▋   | 30/45 [08:09<04:05, 16.37s/it]"
          ]
        },
        {
          "output_type": "stream",
          "name": "stdout",
          "text": [
            "\n",
            "[ Valid | 030/045 ] loss = 0.30082, acc = 0.96002\n"
          ]
        },
        {
          "output_type": "stream",
          "name": "stderr",
          "text": [
            "Training: 100%|██████████| 3470/3470 [00:15<00:00, 225.90it/s]\n"
          ]
        },
        {
          "output_type": "stream",
          "name": "stdout",
          "text": [
            "[ Train | 031/045 ] loss = 0.28210, acc = 0.95603\n"
          ]
        },
        {
          "output_type": "stream",
          "name": "stderr",
          "text": [
            "Validating: 100%|██████████| 217/217 [00:01<00:00, 204.59it/s]\n",
            "epoch:  69%|██████▉   | 31/45 [08:26<03:49, 16.40s/it]"
          ]
        },
        {
          "output_type": "stream",
          "name": "stdout",
          "text": [
            "\n",
            "[ Valid | 031/045 ] loss = 0.25886, acc = 0.96355\n"
          ]
        },
        {
          "output_type": "stream",
          "name": "stderr",
          "text": [
            "Training: 100%|██████████| 3470/3470 [00:15<00:00, 226.04it/s]\n"
          ]
        },
        {
          "output_type": "stream",
          "name": "stdout",
          "text": [
            "[ Train | 032/045 ] loss = 0.27900, acc = 0.95548\n"
          ]
        },
        {
          "output_type": "stream",
          "name": "stderr",
          "text": [
            "Validating: 100%|██████████| 217/217 [00:01<00:00, 204.81it/s]\n",
            "epoch:  71%|███████   | 32/45 [08:42<03:33, 16.41s/it]"
          ]
        },
        {
          "output_type": "stream",
          "name": "stdout",
          "text": [
            "\n",
            "[ Valid | 032/045 ] loss = 0.27966, acc = 0.96045\n"
          ]
        },
        {
          "output_type": "stream",
          "name": "stderr",
          "text": [
            "Training: 100%|██████████| 3470/3470 [00:15<00:00, 223.29it/s]\n"
          ]
        },
        {
          "output_type": "stream",
          "name": "stdout",
          "text": [
            "[ Train | 033/045 ] loss = 0.27610, acc = 0.95509\n"
          ]
        },
        {
          "output_type": "stream",
          "name": "stderr",
          "text": [
            "Validating: 100%|██████████| 217/217 [00:01<00:00, 210.33it/s]\n",
            "epoch:  73%|███████▎  | 33/45 [08:59<03:17, 16.47s/it]"
          ]
        },
        {
          "output_type": "stream",
          "name": "stdout",
          "text": [
            "\n",
            "[ Valid | 033/045 ] loss = 0.26844, acc = 0.96448\n"
          ]
        },
        {
          "output_type": "stream",
          "name": "stderr",
          "text": [
            "Training: 100%|██████████| 3470/3470 [00:15<00:00, 225.95it/s]\n"
          ]
        },
        {
          "output_type": "stream",
          "name": "stdout",
          "text": [
            "[ Train | 034/045 ] loss = 0.26866, acc = 0.95874\n"
          ]
        },
        {
          "output_type": "stream",
          "name": "stderr",
          "text": [
            "Validating: 100%|██████████| 217/217 [00:01<00:00, 197.65it/s]\n",
            "epoch:  76%|███████▌  | 34/45 [09:15<03:01, 16.48s/it]"
          ]
        },
        {
          "output_type": "stream",
          "name": "stdout",
          "text": [
            "\n",
            "[ Valid | 034/045 ] loss = 0.26011, acc = 0.96470\n"
          ]
        },
        {
          "output_type": "stream",
          "name": "stderr",
          "text": [
            "Training: 100%|██████████| 3470/3470 [00:15<00:00, 226.83it/s]\n"
          ]
        },
        {
          "output_type": "stream",
          "name": "stdout",
          "text": [
            "[ Train | 035/045 ] loss = 0.26236, acc = 0.95801\n"
          ]
        },
        {
          "output_type": "stream",
          "name": "stderr",
          "text": [
            "Validating: 100%|██████████| 217/217 [00:00<00:00, 236.06it/s]\n",
            "epoch:  78%|███████▊  | 35/45 [09:31<02:44, 16.42s/it]"
          ]
        },
        {
          "output_type": "stream",
          "name": "stdout",
          "text": [
            "\n",
            "[ Valid | 035/045 ] loss = 0.27745, acc = 0.96319\n"
          ]
        },
        {
          "output_type": "stream",
          "name": "stderr",
          "text": [
            "Training: 100%|██████████| 3470/3470 [00:15<00:00, 228.21it/s]\n"
          ]
        },
        {
          "output_type": "stream",
          "name": "stdout",
          "text": [
            "[ Train | 036/045 ] loss = 0.26085, acc = 0.95778\n"
          ]
        },
        {
          "output_type": "stream",
          "name": "stderr",
          "text": [
            "Validating: 100%|██████████| 217/217 [00:01<00:00, 206.42it/s]\n",
            "epoch:  80%|████████  | 36/45 [09:48<02:27, 16.38s/it]"
          ]
        },
        {
          "output_type": "stream",
          "name": "stdout",
          "text": [
            "\n",
            "[ Valid | 036/045 ] loss = 0.27439, acc = 0.96327\n"
          ]
        },
        {
          "output_type": "stream",
          "name": "stderr",
          "text": [
            "Training: 100%|██████████| 3470/3470 [00:15<00:00, 228.83it/s]\n"
          ]
        },
        {
          "output_type": "stream",
          "name": "stdout",
          "text": [
            "[ Train | 037/045 ] loss = 0.25944, acc = 0.95923\n"
          ]
        },
        {
          "output_type": "stream",
          "name": "stderr",
          "text": [
            "Validating: 100%|██████████| 217/217 [00:00<00:00, 224.73it/s]\n",
            "epoch:  82%|████████▏ | 37/45 [10:04<02:10, 16.32s/it]"
          ]
        },
        {
          "output_type": "stream",
          "name": "stdout",
          "text": [
            "\n",
            "[ Valid | 037/045 ] loss = 0.23931, acc = 0.96412\n"
          ]
        },
        {
          "output_type": "stream",
          "name": "stderr",
          "text": [
            "Training: 100%|██████████| 3470/3470 [00:15<00:00, 224.81it/s]\n"
          ]
        },
        {
          "output_type": "stream",
          "name": "stdout",
          "text": [
            "[ Train | 038/045 ] loss = 0.25118, acc = 0.96071\n"
          ]
        },
        {
          "output_type": "stream",
          "name": "stderr",
          "text": [
            "Validating: 100%|██████████| 217/217 [00:00<00:00, 232.85it/s]\n",
            "epoch:  84%|████████▍ | 38/45 [10:20<01:54, 16.35s/it]"
          ]
        },
        {
          "output_type": "stream",
          "name": "stdout",
          "text": [
            "\n",
            "[ Valid | 038/045 ] loss = 0.23578, acc = 0.96628\n"
          ]
        },
        {
          "output_type": "stream",
          "name": "stderr",
          "text": [
            "Training: 100%|██████████| 3470/3470 [00:15<00:00, 226.78it/s]\n"
          ]
        },
        {
          "output_type": "stream",
          "name": "stdout",
          "text": [
            "[ Train | 039/045 ] loss = 0.24905, acc = 0.96079\n"
          ]
        },
        {
          "output_type": "stream",
          "name": "stderr",
          "text": [
            "Validating: 100%|██████████| 217/217 [00:01<00:00, 212.84it/s]\n",
            "epoch:  87%|████████▋ | 39/45 [10:37<01:38, 16.35s/it]"
          ]
        },
        {
          "output_type": "stream",
          "name": "stdout",
          "text": [
            "\n",
            "[ Valid | 039/045 ] loss = 0.25234, acc = 0.96809\n"
          ]
        },
        {
          "output_type": "stream",
          "name": "stderr",
          "text": [
            "Training: 100%|██████████| 3470/3470 [00:15<00:00, 228.39it/s]\n"
          ]
        },
        {
          "output_type": "stream",
          "name": "stdout",
          "text": [
            "[ Train | 040/045 ] loss = 0.24452, acc = 0.96185\n"
          ]
        },
        {
          "output_type": "stream",
          "name": "stderr",
          "text": [
            "Validating: 100%|██████████| 217/217 [00:01<00:00, 212.31it/s]\n",
            "epoch:  89%|████████▉ | 40/45 [10:53<01:21, 16.32s/it]"
          ]
        },
        {
          "output_type": "stream",
          "name": "stdout",
          "text": [
            "\n",
            "[ Valid | 040/045 ] loss = 0.25510, acc = 0.96448\n"
          ]
        },
        {
          "output_type": "stream",
          "name": "stderr",
          "text": [
            "Training: 100%|██████████| 3470/3470 [00:15<00:00, 226.77it/s]\n"
          ]
        },
        {
          "output_type": "stream",
          "name": "stdout",
          "text": [
            "[ Train | 041/045 ] loss = 0.24560, acc = 0.96182\n"
          ]
        },
        {
          "output_type": "stream",
          "name": "stderr",
          "text": [
            "Validating: 100%|██████████| 217/217 [00:01<00:00, 209.15it/s]\n",
            "epoch:  91%|█████████ | 41/45 [11:09<01:05, 16.34s/it]"
          ]
        },
        {
          "output_type": "stream",
          "name": "stdout",
          "text": [
            "\n",
            "[ Valid | 041/045 ] loss = 0.24040, acc = 0.96693\n"
          ]
        },
        {
          "output_type": "stream",
          "name": "stderr",
          "text": [
            "Training: 100%|██████████| 3470/3470 [00:15<00:00, 226.72it/s]\n"
          ]
        },
        {
          "output_type": "stream",
          "name": "stdout",
          "text": [
            "[ Train | 042/045 ] loss = 0.24234, acc = 0.96219\n"
          ]
        },
        {
          "output_type": "stream",
          "name": "stderr",
          "text": [
            "Validating: 100%|██████████| 217/217 [00:00<00:00, 220.93it/s]\n",
            "epoch:  93%|█████████▎| 42/45 [11:26<00:49, 16.34s/it]"
          ]
        },
        {
          "output_type": "stream",
          "name": "stdout",
          "text": [
            "\n",
            "[ Valid | 042/045 ] loss = 0.23303, acc = 0.96499\n"
          ]
        },
        {
          "output_type": "stream",
          "name": "stderr",
          "text": [
            "Training: 100%|██████████| 3470/3470 [00:15<00:00, 224.89it/s]\n"
          ]
        },
        {
          "output_type": "stream",
          "name": "stdout",
          "text": [
            "[ Train | 043/045 ] loss = 0.23806, acc = 0.96237\n"
          ]
        },
        {
          "output_type": "stream",
          "name": "stderr",
          "text": [
            "Validating: 100%|██████████| 217/217 [00:00<00:00, 220.25it/s]\n",
            "epoch:  96%|█████████▌| 43/45 [11:42<00:32, 16.37s/it]"
          ]
        },
        {
          "output_type": "stream",
          "name": "stdout",
          "text": [
            "\n",
            "[ Valid | 043/045 ] loss = 0.23280, acc = 0.96585\n"
          ]
        },
        {
          "output_type": "stream",
          "name": "stderr",
          "text": [
            "Training: 100%|██████████| 3470/3470 [00:15<00:00, 223.80it/s]\n"
          ]
        },
        {
          "output_type": "stream",
          "name": "stdout",
          "text": [
            "[ Train | 044/045 ] loss = 0.23671, acc = 0.96278\n"
          ]
        },
        {
          "output_type": "stream",
          "name": "stderr",
          "text": [
            "Validating: 100%|██████████| 217/217 [00:01<00:00, 205.68it/s]\n",
            "epoch:  98%|█████████▊| 44/45 [11:59<00:16, 16.44s/it]"
          ]
        },
        {
          "output_type": "stream",
          "name": "stdout",
          "text": [
            "\n",
            "[ Valid | 044/045 ] loss = 0.23667, acc = 0.96765\n"
          ]
        },
        {
          "output_type": "stream",
          "name": "stderr",
          "text": [
            "Training: 100%|██████████| 3470/3470 [00:15<00:00, 226.86it/s]\n"
          ]
        },
        {
          "output_type": "stream",
          "name": "stdout",
          "text": [
            "[ Train | 045/045 ] loss = 0.23454, acc = 0.96349\n"
          ]
        },
        {
          "output_type": "stream",
          "name": "stderr",
          "text": [
            "Validating: 100%|██████████| 217/217 [00:01<00:00, 214.58it/s]\n",
            "epoch: 100%|██████████| 45/45 [12:15<00:00, 16.35s/it]"
          ]
        },
        {
          "output_type": "stream",
          "name": "stdout",
          "text": [
            "\n",
            "[ Valid | 045/045 ] loss = 0.24748, acc = 0.96830\n"
          ]
        },
        {
          "output_type": "stream",
          "name": "stderr",
          "text": [
            "\n"
          ]
        }
      ]
    },
    {
      "cell_type": "markdown",
      "source": [
        "# Save model"
      ],
      "metadata": {
        "id": "ekm133hwyh7m"
      }
    },
    {
      "cell_type": "code",
      "source": [
        "SAVE_PATH = os.path.join(BASE_PATH, 'lfsa_model/best-model-parameters-v0-576-c2000.pt')"
      ],
      "metadata": {
        "id": "clI3Ma6O4snX"
      },
      "execution_count": null,
      "outputs": []
    },
    {
      "cell_type": "code",
      "source": [
        "torch.save(best_model_state, SAVE_PATH)"
      ],
      "metadata": {
        "id": "7l4ZRcsVxvIi"
      },
      "execution_count": null,
      "outputs": []
    },
    {
      "cell_type": "markdown",
      "source": [
        "# Test on test set"
      ],
      "metadata": {
        "id": "6rW20b5qypEK"
      }
    },
    {
      "cell_type": "code",
      "source": [
        "model.load_state_dict(torch.load(SAVE_PATH))\n",
        "model.eval()\n",
        "\n",
        "loss_func = torch.nn.CrossEntropyLoss()\n",
        "\n",
        "prog_iter_test = tqdm(test_loader, desc=\"Testing\", position=0, leave=True)\n",
        "all_pred_prob = []\n",
        "\n",
        "test_loss = []\n",
        "test_accs = []\n",
        "test_ys = []\n",
        "\n",
        "with torch.no_grad():\n",
        "    for batch_idx, batch in enumerate(prog_iter_test):\n",
        "        input_x, labels = tuple(t.to(device) for t in batch)\n",
        "        logits = model(input_x)\n",
        "\n",
        "        # We can still compute the loss (but not the gradient).\n",
        "        loss = loss_func(logits, labels.to(device))\n",
        "\n",
        "        # Compute the accuracy for current batch.\n",
        "        acc = (logits.argmax(dim=-1) == labels.to(device)).float().mean()\n",
        "        # print(f\"logits: {logits.argmax(dim=-1)}, labels: {labels.to(device)}\")\n",
        "\n",
        "        # Record the loss and accuracy.\n",
        "        test_loss.append(loss.item())\n",
        "        test_accs.append(acc)\n",
        "\n",
        "    # The average loss and accuracy for entire testing set is the average of the recorded values.\n",
        "    test_loss = sum(test_loss) / len(test_loss)\n",
        "    test_acc = sum(test_accs) / len(test_accs)\n",
        "\n",
        "    # Print the information.\n",
        "    print(f\"\\n[ Testing: loss = {test_loss:.5f}, acc = {test_acc:.5f} ]\")\n"
      ],
      "metadata": {
        "colab": {
          "base_uri": "https://localhost:8080/"
        },
        "id": "jjVBYniKPPSw",
        "outputId": "cb69685a-f4bd-4524-9d57-460925de6e37"
      },
      "execution_count": null,
      "outputs": [
        {
          "output_type": "stream",
          "name": "stderr",
          "text": [
            "Testing: 100%|██████████| 217/217 [00:01<00:00, 155.87it/s]"
          ]
        },
        {
          "output_type": "stream",
          "name": "stdout",
          "text": [
            "\n",
            "[ Testing: loss = 0.24880, acc = 0.96003 ]\n"
          ]
        },
        {
          "output_type": "stream",
          "name": "stderr",
          "text": [
            "\n"
          ]
        }
      ]
    },
    {
      "cell_type": "markdown",
      "source": [
        "# Inference"
      ],
      "metadata": {
        "id": "AHRLElAGyuCr"
      }
    },
    {
      "cell_type": "code",
      "source": [
        "data_path = \"mock_spec_in.csv\"\n",
        "obs_data_path = os.path.join(BASE_PATH, data_path)\n",
        "obs_data = pd.read_csv(obs_data_path)\n",
        "\n",
        "with open(os.path.join(BASE_PATH, 'label2class_mapping_c2000.json'), 'r') as json_file:\n",
        "    label2class = json.load(json_file)\n",
        "\n",
        "with open(os.path.join(BASE_PATH, 'class2label_mapping_c2000.json'), 'r') as json_file:\n",
        "    class2label = json.load(json_file)\n",
        "\n",
        "\n",
        "\n",
        "obs_data.iloc[:, -1] = obs_data.iloc[:, -1].apply(lambda s: str(int(s)))\n",
        "last_key = str(len(obs_data.columns)-1)\n",
        "print(len(obs_data))\n",
        "obs_data = obs_data[obs_data[last_key].map(label2class).notna()]\n",
        "print(len(obs_data))\n",
        "# data[data.iloc[:, -1].map(label2class).notna()]\n",
        "\n",
        "# print(obs_data.iloc[:, -1].map(label2class).values)\n",
        "\n",
        "all_obs_values = obs_data.iloc[:, :-1].values.tolist()\n",
        "print(len(all_obs_values))\n",
        "max_value = np.max(all_obs_values)\n",
        "min_value = np.min(all_obs_values)\n",
        "obs_set = SpecDataset(obs_data, label2class, max_value, min_value, normalize=True, do_label_trans=True)\n",
        "obs_loader = DataLoader(obs_set, batch_size=64, shuffle=False, num_workers=2, pin_memory=True)\n",
        "\n",
        "model.load_state_dict(torch.load(SAVE_PATH))\n",
        "\n",
        "prog_iter_obs = tqdm(obs_loader, desc=f\"Testing data {data_path}\", position=0, leave=True)\n",
        "all_pred_prob = []\n",
        "\n",
        "obs_loss = []\n",
        "obs_accs = []\n",
        "obs_ys = []\n",
        "correct = []\n",
        "incorrect = []\n",
        "\n",
        "# print(\"26502\" in label2class)\n",
        "\n",
        "na_count = 0\n",
        "with torch.no_grad():\n",
        "    for batch_idx, batch in enumerate(prog_iter_obs):\n",
        "        input_x, labels = tuple(t.to(device) for t in batch)\n",
        "        logits = model(input_x)\n",
        "        # for idx, l in enumerate(labels):\n",
        "            # if l == label2class[\"32504\"]:\n",
        "            #     fig = plt.figure(figsize=(12, 8))\n",
        "            #     plt.plot(np.arange(1918), input_x[idx][0].cpu())\n",
        "\n",
        "        # We can still compute the loss (but not the gradient).\n",
        "        # loss = loss_func(logits, labels.to(device))\n",
        "\n",
        "        # Compute the accuracy for current batch.\n",
        "        for logit, lab in zip(logits, labels.to(device)):\n",
        "            top_probs, top_indices = torch.topk(logit, k=2)\n",
        "            # print(logit)\n",
        "            confidence_scores = torch.sigmoid(logit)\n",
        "            # print(f\"molecule: {class2label[int(lab)]}, pred: {class2label[int(pred)]}, logit: {torch.max(confidence_scores, dim=0).values}\")\n",
        "            if not str(int(lab)) in label2class:\n",
        "                # print(label2class)\n",
        "                # print(f\"mole_id: {lab}, pred: {int(pred)}, logit: {torch.max(confidence_scores, dim=0).values}\")\n",
        "                print(f\"mole_id: {class2label[str(int(lab))]}, 1-pred: {class2label[str(int(top_indices[0]))]}, 2-pred: {class2label[str(int(top_indices[1]))]}, 1-prob: {top_probs[0]}, 2-prob: {top_probs[1]}\")\n",
        "                na_count += 1\n",
        "            # if int(lab) == int(pred):\n",
        "            if int(lab) == int(top_indices[0]):\n",
        "                correct.append(class2label[str(int(lab))])\n",
        "            else:\n",
        "                incorrect.append(class2label[str(int(lab))])\n",
        "\n",
        "        acc = (logits.argmax(dim=-1) == labels.to(device)).float().mean()\n",
        "        # print(f\"logits: {logits.argmax(dim=-1)}, labels: {labels.to(device)}\")\n",
        "\n",
        "        # Record the loss and accuracy.\n",
        "        # obs_loss.append(loss.item())\n",
        "        obs_accs.append(acc)\n",
        "\n",
        "    # The average loss and accuracy for entire testing set is the average of the recorded values.\n",
        "    # obs_loss = sum(obs_loss) / len(obs_loss)\n",
        "    obs_acc = sum(obs_accs) / len(obs_accs)\n",
        "\n",
        "    # Print the information.\n",
        "    print(f\"\\n[ Testing: acc = {obs_acc:.5f} ]\")\n",
        "    print(f\"{len(correct)} in total\")\n",
        "    print(f\"correct: {correct}\")\n",
        "    print(f\"incorrect: {incorrect}\")\n",
        "    print(f\"na_count: {na_count}\")\n"
      ],
      "metadata": {
        "colab": {
          "base_uri": "https://localhost:8080/"
        },
        "id": "j51JuN9ols5H",
        "outputId": "c7beacaf-24c1-46af-ba56-4b0e8ca0adef"
      },
      "execution_count": null,
      "outputs": [
        {
          "output_type": "stream",
          "name": "stdout",
          "text": [
            "109\n",
            "109\n",
            "109\n"
          ]
        },
        {
          "output_type": "stream",
          "name": "stderr",
          "text": [
            "\rTesting data mock_spec_in.csv:   0%|          | 0/2 [00:00<?, ?it/s]"
          ]
        },
        {
          "output_type": "stream",
          "name": "stdout",
          "text": [
            "mole_id: 61505, 1-pred: 61505, 2-pred: 34504, 1-prob: 681661.75, 2-prob: 550646.3125\n",
            "mole_id: 94501, 1-pred: 61505, 2-pred: 34504, 1-prob: 607879.25, 2-prob: 470394.34375\n",
            "mole_id: 34504, 1-pred: 61505, 2-pred: 34504, 1-prob: 681661.75, 2-prob: 550646.3125\n",
            "mole_id: 83502, 1-pred: 61505, 2-pred: 34504, 1-prob: 424224.40625, 2-prob: 351349.0625\n",
            "mole_id: 80503, 1-pred: 61505, 2-pred: 34504, 1-prob: 665552.5, 2-prob: 535226.125\n",
            "mole_id: 43517, 1-pred: 61505, 2-pred: 34504, 1-prob: 435935.78125, 2-prob: 362420.1875\n",
            "mole_id: 56510, 1-pred: 61505, 2-pred: 34504, 1-prob: 434350.1875, 2-prob: 361272.125\n",
            "mole_id: 55502, 1-pred: 61505, 2-pred: 55515, 1-prob: 436736.375, 2-prob: 374617.75\n",
            "mole_id: 60505, 1-pred: 61505, 2-pred: 55515, 1-prob: 436736.375, 2-prob: 374617.75\n",
            "mole_id: 26502, 1-pred: 83506, 2-pred: 60519, 1-prob: 57611.859375, 2-prob: 53906.28125\n",
            "mole_id: 94503, 1-pred: 94503, 2-pred: 26502, 1-prob: 26628.08203125, 2-prob: 16336.5478515625\n",
            "mole_id: 83506, 1-pred: 83506, 2-pred: 26502, 1-prob: 52751.3828125, 2-prob: 21458.865234375\n",
            "mole_id: 108501, 1-pred: 45512, 2-pred: 69516, 1-prob: 62214.62890625, 2-prob: 40253.26171875\n",
            "mole_id: 58518, 1-pred: 76519, 2-pred: 58518, 1-prob: 30605.001953125, 2-prob: 28344.72265625\n",
            "mole_id: 69509, 1-pred: 83503, 2-pred: 74519, 1-prob: 102836.765625, 2-prob: 99443.890625\n",
            "mole_id: 69510, 1-pred: 83503, 2-pred: 69511, 1-prob: 119523.625, 2-prob: 104899.25\n",
            "mole_id: 62504, 1-pred: 83503, 2-pred: 69511, 1-prob: 129193.46875, 2-prob: 98213.6953125\n",
            "mole_id: 76521, 1-pred: 85501, 2-pred: 74517, 1-prob: 232140.734375, 2-prob: 166787.46875\n",
            "mole_id: 76522, 1-pred: 83503, 2-pred: 69511, 1-prob: 135044.46875, 2-prob: 103318.0078125\n",
            "mole_id: 61518, 1-pred: 83503, 2-pred: 74519, 1-prob: 126209.8828125, 2-prob: 107973.0234375\n",
            "mole_id: 83503, 1-pred: 83503, 2-pred: 74519, 1-prob: 182127.546875, 2-prob: 85165.6015625\n",
            "mole_id: 62524, 1-pred: 83503, 2-pred: 69511, 1-prob: 132579.984375, 2-prob: 114009.5703125\n",
            "mole_id: 69511, 1-pred: 83503, 2-pred: 74519, 1-prob: 102063.4140625, 2-prob: 88788.2265625\n",
            "mole_id: 83505, 1-pred: 46524, 2-pred: 99501, 1-prob: 113968.7578125, 2-prob: 69516.0390625\n",
            "mole_id: 83507, 1-pred: 83503, 2-pred: 74519, 1-prob: 94376.1953125, 2-prob: 75378.9296875\n",
            "mole_id: 74519, 1-pred: 83503, 2-pred: 74519, 1-prob: 118270.6171875, 2-prob: 107312.640625\n",
            "mole_id: 80506, 1-pred: 83503, 2-pred: 74519, 1-prob: 86321.8828125, 2-prob: 83114.625\n",
            "mole_id: 46524, 1-pred: 46524, 2-pred: 99501, 1-prob: 126176.484375, 2-prob: 69374.9296875\n",
            "mole_id: 76518, 1-pred: 39510, 2-pred: 83503, 1-prob: 38008.88671875, 2-prob: 34598.4375\n",
            "mole_id: 76513, 1-pred: 83503, 2-pred: 74519, 1-prob: 71335.3203125, 2-prob: 67834.59375\n",
            "mole_id: 76515, 1-pred: 74519, 2-pred: 76515, 1-prob: 67328.5234375, 2-prob: 66306.84375\n",
            "mole_id: 57507, 1-pred: 83506, 2-pred: 68506, 1-prob: 65439.7890625, 2-prob: 63182.9140625\n",
            "mole_id: 60519, 1-pred: 68506, 2-pred: 60519, 1-prob: 67008.9765625, 2-prob: 63668.58203125\n",
            "mole_id: 47511, 1-pred: 68506, 2-pred: 60519, 1-prob: 67008.9765625, 2-prob: 63668.58203125\n",
            "mole_id: 76516, 1-pred: 47511, 2-pred: 76523, 1-prob: 20731.056640625, 2-prob: 19378.31640625\n",
            "mole_id: 53515, 1-pred: 60519, 2-pred: 39510, 1-prob: 28107.619140625, 2-prob: 26535.33984375\n",
            "mole_id: 39510, 1-pred: 39510, 2-pred: 60519, 1-prob: 36040.96484375, 2-prob: 26682.47265625\n",
            "mole_id: 68506, 1-pred: 60519, 2-pred: 39510, 1-prob: 21011.623046875, 2-prob: 20932.330078125\n",
            "mole_id: 64516, 1-pred: 64516, 2-pred: 72505, 1-prob: 21930.73828125, 2-prob: 14426.7666015625\n",
            "mole_id: 79501, 1-pred: 64516, 2-pred: 72505, 1-prob: 21930.73828125, 2-prob: 14426.7666015625\n",
            "mole_id: 72505, 1-pred: 64516, 2-pred: 72505, 1-prob: 21930.73828125, 2-prob: 14426.7666015625\n",
            "mole_id: 75511, 1-pred: 57507, 2-pred: 76523, 1-prob: 28286.970703125, 2-prob: 25086.541015625\n",
            "mole_id: 74514, 1-pred: 61516, 2-pred: 62503, 1-prob: 15348.279296875, 2-prob: 14699.3369140625\n",
            "mole_id: 45513, 1-pred: 61516, 2-pred: 78505, 1-prob: 15896.205078125, 2-prob: 14782.5673828125\n",
            "mole_id: 78505, 1-pred: 61516, 2-pred: 78505, 1-prob: 15896.205078125, 2-prob: 14782.5673828125\n",
            "mole_id: 67502, 1-pred: 61516, 2-pred: 78505, 1-prob: 15896.205078125, 2-prob: 14782.5673828125\n",
            "mole_id: 74515, 1-pred: 76523, 2-pred: 76513, 1-prob: 19970.8046875, 2-prob: 16381.80078125\n",
            "mole_id: 56511, 1-pred: 78505, 2-pred: 75511, 1-prob: 8288.6875, 2-prob: 7363.2021484375\n",
            "mole_id: 76519, 1-pred: 57507, 2-pred: 76523, 1-prob: 28955.39453125, 2-prob: 26280.9296875\n",
            "mole_id: 70505, 1-pred: 70505, 2-pred: 76523, 1-prob: 56171.40625, 2-prob: 25960.587890625\n",
            "mole_id: 60999, 1-pred: 76523, 2-pred: 57507, 1-prob: 30336.87890625, 2-prob: 25081.056640625\n",
            "mole_id: 61517, 1-pred: 76523, 2-pred: 57507, 1-prob: 31858.158203125, 2-prob: 26163.181640625\n",
            "mole_id: 73503, 1-pred: 85501, 2-pred: 56504, 1-prob: 178464.15625, 2-prob: 129129.015625\n",
            "mole_id: 69513, 1-pred: 46518, 2-pred: 44504, 1-prob: 7708.791015625, 2-prob: 6834.607421875\n",
            "mole_id: 58517, 1-pred: 83505, 2-pred: 45512, 1-prob: 29524.21484375, 2-prob: 25035.36328125\n",
            "mole_id: 46518, 1-pred: 46518, 2-pred: 44504, 1-prob: 7708.791015625, 2-prob: 6834.607421875\n",
            "mole_id: 44504, 1-pred: 44504, 2-pred: 47517, 1-prob: 30285.1875, 2-prob: 11330.3212890625\n",
            "mole_id: 69506, 1-pred: 56508, 2-pred: 38502, 1-prob: 19551.890625, 2-prob: 12719.1328125\n",
            "mole_id: 38502, 1-pred: 56508, 2-pred: 38502, 1-prob: 19551.890625, 2-prob: 12719.1328125\n",
            "mole_id: 62503, 1-pred: 62503, 2-pred: 83506, 1-prob: 8968.8330078125, 2-prob: 4571.0322265625\n",
            "mole_id: 76520, 1-pred: 32504, 2-pred: 49510, 1-prob: 34491.703125, 2-prob: 33363.1328125\n",
            "mole_id: 45515, 1-pred: 62503, 2-pred: 83506, 1-prob: 8968.8330078125, 2-prob: 4571.0322265625\n",
            "mole_id: 75512, 1-pred: 70505, 2-pred: 69508, 1-prob: 13392.2685546875, 2-prob: 6989.71484375\n"
          ]
        },
        {
          "output_type": "stream",
          "name": "stderr",
          "text": [
            "Testing data mock_spec_in.csv: 100%|██████████| 2/2 [00:00<00:00,  8.76it/s]"
          ]
        },
        {
          "output_type": "stream",
          "name": "stdout",
          "text": [
            "mole_id: 55515, 1-pred: 62503, 2-pred: 83506, 1-prob: 8968.8330078125, 2-prob: 4571.0322265625\n",
            "mole_id: 33502, 1-pred: 45512, 2-pred: 74517, 1-prob: 37009.8828125, 2-prob: 32498.765625\n",
            "mole_id: 60517, 1-pred: 85501, 2-pred: 74517, 1-prob: 197108.03125, 2-prob: 183301.296875\n",
            "mole_id: 106501, 1-pred: 85501, 2-pred: 74517, 1-prob: 187302.15625, 2-prob: 174678.3125\n",
            "mole_id: 45516, 1-pred: 85501, 2-pred: 56504, 1-prob: 180637.359375, 2-prob: 131326.203125\n",
            "mole_id: 67503, 1-pred: 45516, 2-pred: 67503, 1-prob: 14664.2470703125, 2-prob: 12176.6806640625\n",
            "mole_id: 80505, 1-pred: 45516, 2-pred: 80505, 1-prob: 11464.130859375, 2-prob: 9393.134765625\n",
            "mole_id: 74503, 1-pred: 76501, 2-pred: 99501, 1-prob: 91423.953125, 2-prob: 83802.984375\n",
            "mole_id: 49510, 1-pred: 32504, 2-pred: 49510, 1-prob: 36070.80859375, 2-prob: 35087.9453125\n",
            "mole_id: 32504, 1-pred: 32504, 2-pred: 49510, 1-prob: 36070.80859375, 2-prob: 35087.9453125\n",
            "mole_id: 57508, 1-pred: 73503, 2-pred: 45512, 1-prob: 32086.478515625, 2-prob: 31278.533203125\n",
            "mole_id: 57512, 1-pred: 45512, 2-pred: 74517, 1-prob: 41691.91796875, 2-prob: 33739.83984375\n",
            "mole_id: 58505, 1-pred: 44504, 2-pred: 47517, 1-prob: 15782.9697265625, 2-prob: 15231.8681640625\n",
            "mole_id: 92502, 1-pred: 54514, 2-pred: 92502, 1-prob: 7570.28076171875, 2-prob: 5028.259765625\n",
            "mole_id: 13502, 1-pred: 54514, 2-pred: 92502, 1-prob: 7570.28076171875, 2-prob: 5028.259765625\n",
            "mole_id: 45512, 1-pred: 45512, 2-pred: 83505, 1-prob: 105160.953125, 2-prob: 38882.07421875\n",
            "mole_id: 54508, 1-pred: 39510, 2-pred: 93503, 1-prob: 5483.26513671875, 2-prob: 4450.048828125\n",
            "mole_id: 73501, 1-pred: 93503, 2-pred: 60509, 1-prob: 5337.13671875, 2-prob: 3839.678955078125\n",
            "mole_id: 93503, 1-pred: 93503, 2-pred: 60509, 1-prob: 5337.13671875, 2-prob: 3839.678955078125\n",
            "mole_id: 66506, 1-pred: 65502, 2-pred: 96501, 1-prob: 4808.9482421875, 2-prob: 4149.06982421875\n",
            "mole_id: 60524, 1-pred: 83505, 2-pred: 45512, 1-prob: 22117.765625, 2-prob: 20666.40234375\n",
            "mole_id: 72504, 1-pred: 65502, 2-pred: 96501, 1-prob: 4808.9482421875, 2-prob: 4149.06982421875\n",
            "mole_id: 96501, 1-pred: 65502, 2-pred: 96501, 1-prob: 4808.9482421875, 2-prob: 4149.06982421875\n",
            "mole_id: 99501, 1-pred: 76501, 2-pred: 99501, 1-prob: 95402.9375, 2-prob: 88562.71875\n",
            "mole_id: 76501, 1-pred: 76501, 2-pred: 99501, 1-prob: 95402.9375, 2-prob: 88562.71875\n",
            "mole_id: 58519, 1-pred: 76501, 2-pred: 99501, 1-prob: 92586.4453125, 2-prob: 84831.8515625\n",
            "mole_id: 65514, 1-pred: 47518, 2-pred: 54509, 1-prob: 22336.564453125, 2-prob: 21286.6640625\n",
            "mole_id: 61515, 1-pred: 47518, 2-pred: 63506, 1-prob: 25002.638671875, 2-prob: 23808.70703125\n",
            "mole_id: 47518, 1-pred: 47518, 2-pred: 63506, 1-prob: 25002.638671875, 2-prob: 23808.70703125\n",
            "mole_id: 99502, 1-pred: 47517, 2-pred: 56503, 1-prob: 16471.236328125, 2-prob: 15193.5087890625\n",
            "mole_id: 67504, 1-pred: 61502, 2-pred: 58508, 1-prob: 18673.658203125, 2-prob: 15061.966796875\n",
            "mole_id: 44506, 1-pred: 47517, 2-pred: 56503, 1-prob: 16471.236328125, 2-prob: 15193.5087890625\n",
            "mole_id: 55505, 1-pred: 45512, 2-pred: 74517, 1-prob: 40226.3671875, 2-prob: 34917.84765625\n",
            "mole_id: 76523, 1-pred: 85501, 2-pred: 74517, 1-prob: 199449.84375, 2-prob: 185438.265625\n",
            "mole_id: 56504, 1-pred: 85501, 2-pred: 74517, 1-prob: 199449.84375, 2-prob: 185438.265625\n",
            "mole_id: 85501, 1-pred: 85501, 2-pred: 74517, 1-prob: 299428.90625, 2-prob: 239064.953125\n",
            "mole_id: 99503, 1-pred: 70505, 2-pred: 69508, 1-prob: 14679.130859375, 2-prob: 8161.130859375\n",
            "mole_id: 54507, 1-pred: 64519, 2-pred: 65508, 1-prob: 14098.162109375, 2-prob: 10416.3818359375\n",
            "mole_id: 65502, 1-pred: 64519, 2-pred: 65508, 1-prob: 14098.162109375, 2-prob: 10416.3818359375\n",
            "mole_id: 89502, 1-pred: 61502, 2-pred: 58508, 1-prob: 21299.64453125, 2-prob: 18090.4609375\n",
            "mole_id: 58508, 1-pred: 61502, 2-pred: 58508, 1-prob: 21299.64453125, 2-prob: 18090.4609375\n",
            "mole_id: 74516, 1-pred: 61502, 2-pred: 58508, 1-prob: 21299.64453125, 2-prob: 18090.4609375\n",
            "mole_id: 84503, 1-pred: 61502, 2-pred: 58508, 1-prob: 21299.64453125, 2-prob: 18090.4609375\n",
            "mole_id: 61502, 1-pred: 61502, 2-pred: 58508, 1-prob: 21299.64453125, 2-prob: 18090.4609375\n",
            "mole_id: 103501, 1-pred: 83505, 2-pred: 45512, 1-prob: 25522.611328125, 2-prob: 23793.1953125\n",
            "mole_id: 70504, 1-pred: 54508, 2-pred: 61514, 1-prob: 14684.072265625, 2-prob: 11447.8515625\n",
            "\n",
            "[ Testing: acc = 0.16372 ]\n",
            "18 in total\n",
            "correct: [61505, 94503, 83506, 83503, 46524, 39510, 64516, 70505, 46518, 44504, 62503, 32504, 45512, 93503, 76501, 47518, 85501, 61502]\n",
            "incorrect: [94501, 34504, 83502, 80503, 43517, 56510, 55502, 60505, 26502, 108501, 58518, 69509, 69510, 62504, 76521, 76522, 61518, 62524, 69511, 83505, 83507, 74519, 80506, 76518, 76513, 76515, 57507, 60519, 47511, 76516, 53515, 68506, 79501, 72505, 75511, 74514, 45513, 78505, 67502, 74515, 56511, 76519, 60999, 61517, 73503, 69513, 58517, 69506, 38502, 76520, 45515, 75512, 55515, 33502, 60517, 106501, 45516, 67503, 80505, 74503, 49510, 57508, 57512, 58505, 92502, 13502, 54508, 73501, 66506, 60524, 72504, 96501, 99501, 58519, 65514, 61515, 99502, 67504, 44506, 55505, 76523, 56504, 99503, 54507, 65502, 89502, 58508, 74516, 84503, 103501, 70504]\n",
            "na_count: 109\n"
          ]
        },
        {
          "output_type": "stream",
          "name": "stderr",
          "text": [
            "\n"
          ]
        }
      ]
    },
    {
      "cell_type": "code",
      "source": [
        "correct= [61505, 94503, 83506, 83503, 46524, 60519, 47511, 39510, 64516, 61516, 74514, 70505, 46518, 44504, 62503, 60517, 49510, 45512, 93503, 76501, 99502, 41503, 85501, 61502, 54504]\n",
        "incorrect= [76513, 94501, 34504, 55502, 83502, 80503, 43517, 56510, 26502, 103501, 108501, 58518, 69509, 69510, 69511, 62504, 76521, 76522, 61518, 62524, 83505, 83507, 74519, 80506, 76514, 76518, 76515, 57507, 68506, 76516, 53515, 84503, 56511, 79501, 72505, 75511, 45513, 78505, 67502, 74515, 76519, 104501, 73503, 60999, 61517, 69513, 58515, 58517, 69506, 38502, 59509, 76520, 45515, 83501, 75512, 55515, 76523, 33502, 106501, 70504, 45516, 67503, 80505, 92502, 74503, 32504, 57508, 57512, 58505, 69516, 13502, 72501, 66506, 54508, 73501, 60524, 69518, 72504, 96501, 99501, 58519, 89503, 65514, 61515, 47518, 57509, 38508, 55507, 67504, 44506, 55505, 76503, 56504, 99503, 54507, 65502, 89502, 60523, 58508, 74516, 55513, 66502]\n",
        "correct.sort()\n",
        "incorrect.sort()\n",
        "print(f\"correct: {correct}\")\n",
        "print(f\"incorrect: {incorrect}\")"
      ],
      "metadata": {
        "colab": {
          "base_uri": "https://localhost:8080/"
        },
        "id": "gGBIktkrkrUe",
        "outputId": "94ade5ef-531d-4b0f-e567-3c0b4019dbe4"
      },
      "execution_count": null,
      "outputs": [
        {
          "output_type": "stream",
          "name": "stdout",
          "text": [
            "correct: [39510, 41503, 44504, 45512, 46518, 46524, 47511, 49510, 54504, 60517, 60519, 61502, 61505, 61516, 62503, 64516, 70505, 74514, 76501, 83503, 83506, 85501, 93503, 94503, 99502]\n",
            "incorrect: [13502, 26502, 32504, 33502, 34504, 38502, 38508, 43517, 44506, 45513, 45515, 45516, 47518, 53515, 54507, 54508, 55502, 55505, 55507, 55513, 55515, 56504, 56510, 56511, 57507, 57508, 57509, 57512, 58505, 58508, 58515, 58517, 58518, 58519, 59509, 60523, 60524, 60999, 61515, 61517, 61518, 62504, 62524, 65502, 65514, 66502, 66506, 67502, 67503, 67504, 68506, 69506, 69509, 69510, 69511, 69513, 69516, 69518, 70504, 72501, 72504, 72505, 73501, 73503, 74503, 74515, 74516, 74519, 75511, 75512, 76503, 76513, 76514, 76515, 76516, 76518, 76519, 76520, 76521, 76522, 76523, 78505, 79501, 80503, 80505, 80506, 83501, 83502, 83505, 83507, 84503, 89502, 89503, 92502, 94501, 96501, 99501, 99503, 103501, 104501, 106501, 108501]\n"
          ]
        }
      ]
    },
    {
      "cell_type": "code",
      "source": [
        "db_path = os.path.join(BASE_PATH, \"database_csv_patched.csv\")\n",
        "db_data = pd.read_csv(db_path)\n"
      ],
      "metadata": {
        "colab": {
          "base_uri": "https://localhost:8080/"
        },
        "id": "q3n1XXH42K4-",
        "outputId": "bebfd3e2-5e3a-4fae-8659-9b6348e9e766"
      },
      "execution_count": null,
      "outputs": [
        {
          "output_type": "stream",
          "name": "stderr",
          "text": [
            "<ipython-input-16-58dfaca24246>:2: DtypeWarning: Columns (8) have mixed types. Specify dtype option on import or set low_memory=False.\n",
            "  db_data = pd.read_csv(db_path)\n"
          ]
        }
      ]
    },
    {
      "cell_type": "code",
      "source": [
        "import pickle\n",
        "from tabulate import tabulate\n",
        "\n",
        "with open(os.path.join(BASE_PATH, \"mock_mole_hit_trans_i6.pkl\"), 'rb') as f:\n",
        "    mole_hit_trans_dict = pickle.load(f)\n",
        "# print(mole_hit_trans_dict)\n",
        "\n",
        "result_dict = {\"id\": [], \"mole_name\": [], \"matched_trans_count\": []}\n",
        "correct.sort()\n",
        "incorrect.sort()\n",
        "for id in correct:\n",
        "    result_dict[\"id\"].append(id)\n",
        "    result_dict[\"mole_name\"].append(db_data[db_data[\"id\"] == id].head(1)[\"name\"].values[0])\n",
        "    result_dict[\"matched_trans_count\"].append(len(mole_hit_trans_dict[id]))\n",
        "\n",
        "\n",
        "print(tabulate(result_dict, headers='keys', tablefmt='psql'))\n",
        "\n",
        "result_dict = {\"id\": [], \"mole_name\": [], \"matched_trans_count\": []}\n",
        "for id in incorrect:\n",
        "    result_dict[\"id\"].append(id)\n",
        "    result_dict[\"mole_name\"].append(db_data[db_data[\"id\"] == id].head(1)[\"name\"].values[0])\n",
        "    result_dict[\"matched_trans_count\"].append(len(mole_hit_trans_dict[id]))\n",
        "\n",
        "print(tabulate(result_dict, headers='keys', tablefmt='psql'))"
      ],
      "metadata": {
        "colab": {
          "base_uri": "https://localhost:8080/"
        },
        "id": "C2-M8zeTtJgG",
        "outputId": "efaeb589-28c9-41a3-a722-167be3592f5a"
      },
      "execution_count": null,
      "outputs": [
        {
          "output_type": "stream",
          "name": "stdout",
          "text": [
            "+-------+----------------------+-----------------------+\n",
            "|    id | mole_name            |   matched_trans_count |\n",
            "|-------+----------------------+-----------------------|\n",
            "| 39510 | c-CCC-13-H2          |                     2 |\n",
            "| 41503 | H2CCNH               |                     1 |\n",
            "| 44504 | Ethylene oxide       |                     5 |\n",
            "| 45512 | HC(O)NH2, v=0        |                     4 |\n",
            "| 46518 | c-C2H4O-18           |                     1 |\n",
            "| 46524 | C2H5OH,v=0           |                     3 |\n",
            "| 47511 | a-CH3C-13-H2OH       |                     2 |\n",
            "| 49510 | NaCN                 |                     1 |\n",
            "| 54504 | Cyclopropenone       |                     1 |\n",
            "| 60517 | H2NC(O)NH2           |                     3 |\n",
            "| 60519 | a-i-C3H7OH           |                     1 |\n",
            "| 61502 | OC-13-S              |                     1 |\n",
            "| 61505 | C5H                  |                     4 |\n",
            "| 61516 | CH2(OD)CHO           |                     2 |\n",
            "| 62503 | aGg' glycol          |                     1 |\n",
            "| 64516 | o-c-SiC3             |                     1 |\n",
            "| 67503 | c-C3H5CN             |                     1 |\n",
            "| 70505 | CH3CH(NH2)CN         |                    10 |\n",
            "| 76501 | NC3NC                |                     1 |\n",
            "| 76515 | gG'a-1,2-Propanediol |                     6 |\n",
            "| 83503 | AG-n-C4H9CN          |                    46 |\n",
            "| 83506 | 3-MABN, v=0          |                     3 |\n",
            "| 85501 | C7H                  |                     4 |\n",
            "| 93503 | C2C-13-C2S           |                     1 |\n",
            "| 94503 | Pentadiynethial      |                     1 |\n",
            "| 99502 | HC7N, v15=1          |                     2 |\n",
            "+-------+----------------------+-----------------------+\n",
            "+--------+---------------------------+-----------------------+\n",
            "|     id | mole_name                 |   matched_trans_count |\n",
            "|--------+---------------------------+-----------------------|\n",
            "|  13502 | CH                        |                     1 |\n",
            "|  26502 | C-13-CH                   |                     4 |\n",
            "|  32504 | CH3OH, vt=0-2             |                     1 |\n",
            "|  33502 | *C-13-H3OH, vt=0,1        |                     2 |\n",
            "|  34504 | CH3O-18-H,v=0-2           |                     2 |\n",
            "|  38502 | C2N                       |                     1 |\n",
            "|  38508 | c-C3H2                    |                     1 |\n",
            "|  43517 | HDNCN                     |                     2 |\n",
            "|  44506 | s-H2C=CHOH                |                     1 |\n",
            "|  45513 | c-CC-13-H4O               |                     1 |\n",
            "|  45515 | ethylamine,anti-conformer |                     1 |\n",
            "|  45516 | HC(O)NH2, v12=1           |                     3 |\n",
            "|  47518 | a-s-CH2DCH2OH             |                     1 |\n",
            "|  53515 | C2H3CN, v=0               |                     1 |\n",
            "|  54507 | H2CC-13-HCN, v=0          |                     1 |\n",
            "|  54508 | H2CCHC-13-N, v=0          |                     2 |\n",
            "|  55502 | C2H5CN, v=0               |                     1 |\n",
            "|  55505 | HSiCN                     |                     2 |\n",
            "|  55507 | C2H5NC                    |                     1 |\n",
            "|  55513 | C2H5CN, v20=1-A           |                     1 |\n",
            "|  55515 | DCCCHO                    |                     1 |\n",
            "|  56504 | C2H5C-13-N, v=0           |                     1 |\n",
            "|  56510 | CH2D(ip)CH2CN             |                     2 |\n",
            "|  56511 | CH2D(oop)CH2CN            |                     2 |\n",
            "|  57507 | CH3C-13-H2C-13-N, v=0     |                     3 |\n",
            "|  57508 | C-13-H3CH2C-13-N, v=0     |                     2 |\n",
            "|  57509 | C-13-H3C-13-H2CN, v=0     |                     1 |\n",
            "|  57512 | HOCH2CN                   |                     4 |\n",
            "|  58505 | s-Propanal, v=0           |                     4 |\n",
            "|  58508 | D2NCH2CN                  |                     1 |\n",
            "|  58515 | Oxetane                   |                     1 |\n",
            "|  58517 | s-Propanal, v24=1         |                     2 |\n",
            "|  58518 | s-Propanal, v23=1         |                     5 |\n",
            "|  58519 | g-Propanal, v=0           |                     5 |\n",
            "|  59509 | H2PCN                     |                     2 |\n",
            "|  60523 | CH3COOH, vt=0             |                     1 |\n",
            "|  60524 | CH3COOH, vt=1             |                     3 |\n",
            "|  60999 | CH3OCHO, vt=0,1           |                     2 |\n",
            "|  61515 | CH3OC-13-HO, vt=0,1       |                     1 |\n",
            "|  61517 | CHD(OH)CHO                |                     1 |\n",
            "|  61518 | CH2(OH)CDO                |                     1 |\n",
            "|  62504 | gGg' glycol               |                     4 |\n",
            "|  62524 | a-C2H5SH                  |                     3 |\n",
            "|  65502 | SOO-17                    |                     1 |\n",
            "|  65514 | HCCCH2CN                  |                     2 |\n",
            "|  66502 | SOO-18                    |                     1 |\n",
            "|  66506 | H2C(CN)2                  |                     2 |\n",
            "|  67502 | NCHCCO                    |                     1 |\n",
            "|  67504 | Pyrrole                   |                     3 |\n",
            "|  68506 | H2CNCH2CN                 |                     3 |\n",
            "|  69506 | i-C3H7CN                  |                     1 |\n",
            "|  69509 | a-n-C3H7CN, v30=1         |                     4 |\n",
            "|  69510 | g-n-C3H7CN, v29=1         |                     2 |\n",
            "|  69511 | a-n-C3H7CN, v18=1         |                     6 |\n",
            "|  69513 | a-n-C3H7CN, v30=2         |                     2 |\n",
            "|  69516 | i-C3H7CN, v30=1           |                     2 |\n",
            "|  69518 | Cyanooxirane              |                     2 |\n",
            "|  70504 | NCCONH2                   |                     3 |\n",
            "|  72501 | CaS, v=0,1                |                     1 |\n",
            "|  72504 | HOCHCHCHO                 |                     1 |\n",
            "|  72505 | vinyl formate             |                     2 |\n",
            "|  73501 | C6H                       |                     1 |\n",
            "|  73503 | HSCH2CN                   |                     4 |\n",
            "|  74503 | aa-diethyl ether          |                     3 |\n",
            "|  74514 | ethyl formate             |                     5 |\n",
            "|  74515 | ag-diethyl ether          |                     5 |\n",
            "|  74516 | glyoxylic acid            |                     1 |\n",
            "|  74519 | CH3CHOHCHO                |                    10 |\n",
            "|  75511 | Glycine, conf. I          |                     2 |\n",
            "|  75512 | Glycine, conf. II         |                     5 |\n",
            "|  76503 | Benzyne                   |                     1 |\n",
            "|  76513 | aG'g-1,2-Propanediol      |                     9 |\n",
            "|  76514 | glycolic acid             |                     1 |\n",
            "|  76516 | g'G'g-1,2-Propanediol     |                     8 |\n",
            "|  76518 | a'GG'g-1,3-Propanediol    |                    10 |\n",
            "|  76519 | gGG'g-1,3-Propanediol     |                     7 |\n",
            "|  76520 | g'Ga-1,2-Propanediol      |                     5 |\n",
            "|  76521 | gG'g'-1,2-Propanediol     |                     9 |\n",
            "|  76522 | aGg'-1,2-Propanediol      |                    10 |\n",
            "|  76523 | g'Gg-1,2-Propanediol      |                     5 |\n",
            "|  78505 | Pentadiynal               |                     1 |\n",
            "|  79501 | Pyridine                  |                     4 |\n",
            "|  80503 | S2O, v=0                  |                     2 |\n",
            "|  80505 | TiS                       |                     1 |\n",
            "|  80506 | OC(CN)2                   |                     2 |\n",
            "|  83501 | AA-n-C4H9CN               |                     2 |\n",
            "|  83502 | GA-n-C4H9CN               |                     9 |\n",
            "|  83505 | 2-CAB, v=0                |                    17 |\n",
            "|  83507 | 3-MGBN, v=0               |                    11 |\n",
            "|  84503 | Diketene                  |                     4 |\n",
            "|  89502 | a-Alanine, conf. I        |                     1 |\n",
            "|  89503 | a-Alanine, conf. II       |                     4 |\n",
            "|  92502 | G'Gg'gg'-Glycerol         |                     3 |\n",
            "|  94501 | Phenol                    |                    14 |\n",
            "|  96501 | cis-S2O2                  |                     1 |\n",
            "|  99501 | HC7N, v=0                 |                     1 |\n",
            "|  99503 | HC7N, v15=2               |                     1 |\n",
            "| 103501 | c-C6H5CN                  |                     3 |\n",
            "| 104501 | C6S                       |                     1 |\n",
            "| 106501 | Benzaldehyde              |                     9 |\n",
            "| 108501 | Anisole                   |                     6 |\n",
            "+--------+---------------------------+-----------------------+\n"
          ]
        }
      ]
    },
    {
      "cell_type": "markdown",
      "source": [
        "\n",
        "# Training data v.s. valid accuracy\n",
        "1. temp: 100-300 / 20, ntot: 13-16 / 15 = 300: 0.881\n",
        "2. temp: 100-300 / 40, ntot: 13-16 / 20 = 800: 0.925\n",
        "3. temp: 100-300 / 25, ntot: 13-16 / 36 = 900: 0.930\n",
        "    1.   no noise: 0.98\n",
        "    2.   0-1normalize: 0.97\n",
        "4. temp: 100-300 / 32, ntot: 13-16 / 25 = 800,\n",
        "no noise, 0-1 norm: 0.980\n",
        "5. temp: 50-370 / 32, ntot: 13-18 / 20 = 640: 0.97\n",
        "\n",
        "6. temp: 50-370 / 20, ntot: 13-18 /20 = 400: 0.958\n",
        "7. temp: 50-370 / 12, ntot: 13-18 / 12, fwhm: 1-8 / 4 = 576, 40 epoch: 0.96\n",
        "\n",
        "\n",
        "\n",
        "\n",
        "\n",
        "\n",
        "\n"
      ],
      "metadata": {
        "id": "NBupY8wjOGYG"
      }
    },
    {
      "cell_type": "markdown",
      "source": [
        "# Test velocity - train velocity mismatch v.s. valid accuracy\n",
        "1. 98 - 98: 0.980\n",
        "2. 96 - 98: 0.637\n",
        "3. 94 - 98: 0.579\n",
        "4. 90 - 98: 0.472"
      ],
      "metadata": {
        "id": "DCg34pzBFy__"
      }
    },
    {
      "cell_type": "code",
      "source": [
        "n_species = [10, 50, 90, 130, 170]\n",
        "last5_val_acc = [0.725, 0.598, 0.540, 0.505, 0.436]\n",
        "0.349, 0.436, 0.288\n",
        "plt.plot(n_species, last5_val_acc, '-bo')\n",
        "plt.xlabel('n_species')\n",
        "plt.ylabel('last5_val_acc')\n",
        "plt.show()\n",
        "\n",
        "n_sample = [300, 800]\n",
        "last5_val_acc = [0.436, 0.604]\n",
        "plt.plot(n_sample, last5_val_acc, '-bo')\n",
        "plt.xlabel('n_sample')\n",
        "plt.ylabel('last5_val_acc')\n",
        "plt.show()\n",
        "\n",
        "noise_level = [0.     , 0.0008, 0.0009, 0.001, 0.0012    , 0.0014826 , 0.00296752, 0.009, 0.02209074]\n",
        "last5_val_acc = [0.570, 0.627, 0.730, 0.748, 0.642, 0.643,  0.548, 0.361, 0.419]\n",
        "plt.plot(noise_level, last5_val_acc, '-bo')\n",
        "plt.xlabel('noise_level')\n",
        "plt.ylabel('last5_val_acc')\n",
        "plt.show()"
      ],
      "metadata": {
        "id": "9JmAeere2VLK",
        "colab": {
          "base_uri": "https://localhost:8080/",
          "height": 1000
        },
        "outputId": "8c320ff5-c880-435d-a5b3-efdaa49d5488"
      },
      "execution_count": null,
      "outputs": [
        {
          "output_type": "display_data",
          "data": {
            "text/plain": [
              "<Figure size 640x480 with 1 Axes>"
            ],
            "image/png": "[encoded data removed]"
          },
          "metadata": {}
        },
        {
          "output_type": "display_data",
          "data": {
            "text/plain": [
              "<Figure size 640x480 with 1 Axes>"
            ],
            "image/png": "[encoded data removed]"
          },
          "metadata": {}
        },
        {
          "output_type": "display_data",
          "data": {
            "text/plain": [
              "<Figure size 640x480 with 1 Axes>"
            ],
            "image/png": "[encoded data removed]"
          },
          "metadata": {}
        }
      ]
    }
  ]
}